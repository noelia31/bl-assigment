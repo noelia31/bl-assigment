{
 "cells": [
  {
   "cell_type": "code",
   "execution_count": 136,
   "metadata": {
    "ExecuteTime": {
     "end_time": "2022-03-24T23:42:24.026585Z",
     "start_time": "2022-03-24T23:42:24.017798Z"
    }
   },
   "outputs": [],
   "source": [
    "# import libraries \n",
    "import matplotlib.pyplot as plt\n",
    "import os, requests\n",
    "import numpy as np\n",
    "import pandas as pd\n",
    "import csv\n",
    "import seaborn as sb\n",
    "import matplotlib as pt\n",
    "import scipy.optimize\n",
    "import warnings\n",
    "warnings.filterwarnings('ignore')\n",
    "%matplotlib inline"
   ]
  },
  {
   "cell_type": "markdown",
   "metadata": {},
   "source": [
    "### Load Dataset"
   ]
  },
  {
   "cell_type": "code",
   "execution_count": 137,
   "metadata": {
    "ExecuteTime": {
     "end_time": "2022-03-24T23:42:24.280492Z",
     "start_time": "2022-03-24T23:42:24.276586Z"
    }
   },
   "outputs": [],
   "source": [
    "# add file location\n",
    "os.chdir('C:\\\\Users\\\\francon\\\\Downloads\\\\data')"
   ]
  },
  {
   "cell_type": "code",
   "execution_count": 138,
   "metadata": {
    "ExecuteTime": {
     "end_time": "2022-03-24T23:42:24.524637Z",
     "start_time": "2022-03-24T23:42:24.464109Z"
    },
    "run_control": {
     "marked": true
    }
   },
   "outputs": [],
   "source": [
    "#Load necessary  files into data frames\n",
    "coviddf = pd.read_csv(\"covid_data.csv\", error_bad_lines=False, warn_bad_lines=False, encoding='latin-1',delimiter = \",\")"
   ]
  },
  {
   "cell_type": "code",
   "execution_count": 139,
   "metadata": {
    "ExecuteTime": {
     "end_time": "2022-03-25T01:40:56.350354Z",
     "start_time": "2022-03-25T01:40:56.332773Z"
    },
    "scrolled": true
   },
   "outputs": [
    {
     "data": {
      "text/html": [
       "<div>\n",
       "<style scoped>\n",
       "    .dataframe tbody tr th:only-of-type {\n",
       "        vertical-align: middle;\n",
       "    }\n",
       "\n",
       "    .dataframe tbody tr th {\n",
       "        vertical-align: top;\n",
       "    }\n",
       "\n",
       "    .dataframe thead th {\n",
       "        text-align: right;\n",
       "    }\n",
       "</style>\n",
       "<table border=\"1\" class=\"dataframe\">\n",
       "  <thead>\n",
       "    <tr style=\"text-align: right;\">\n",
       "      <th></th>\n",
       "      <th>location</th>\n",
       "      <th>date</th>\n",
       "      <th>new_cases</th>\n",
       "      <th>new_deaths</th>\n",
       "      <th>population</th>\n",
       "      <th>aged_65_older_percent</th>\n",
       "      <th>gdp_per_capita</th>\n",
       "      <th>hospital_beds_per_thousand</th>\n",
       "    </tr>\n",
       "  </thead>\n",
       "  <tbody>\n",
       "    <tr>\n",
       "      <th>0</th>\n",
       "      <td>Afghanistan</td>\n",
       "      <td>2019-12-31</td>\n",
       "      <td>0</td>\n",
       "      <td>0</td>\n",
       "      <td>38928341.0</td>\n",
       "      <td>2.581</td>\n",
       "      <td>1803.987</td>\n",
       "      <td>0.5</td>\n",
       "    </tr>\n",
       "  </tbody>\n",
       "</table>\n",
       "</div>"
      ],
      "text/plain": [
       "      location        date  new_cases  new_deaths  population  \\\n",
       "0  Afghanistan  2019-12-31          0           0  38928341.0   \n",
       "\n",
       "   aged_65_older_percent  gdp_per_capita  hospital_beds_per_thousand  \n",
       "0                  2.581        1803.987                         0.5  "
      ]
     },
     "execution_count": 139,
     "metadata": {},
     "output_type": "execute_result"
    }
   ],
   "source": [
    "coviddf.head(1)"
   ]
  },
  {
   "cell_type": "markdown",
   "metadata": {},
   "source": [
    "### Data Cleaning"
   ]
  },
  {
   "cell_type": "code",
   "execution_count": 140,
   "metadata": {
    "ExecuteTime": {
     "end_time": "2022-03-24T23:42:24.807835Z",
     "start_time": "2022-03-24T23:42:24.782435Z"
    }
   },
   "outputs": [
    {
     "name": "stdout",
     "output_type": "stream",
     "text": [
      "<class 'pandas.core.frame.DataFrame'>\n",
      "RangeIndex: 23082 entries, 0 to 23081\n",
      "Data columns (total 8 columns):\n",
      " #   Column                      Non-Null Count  Dtype  \n",
      "---  ------                      --------------  -----  \n",
      " 0   location                    23082 non-null  object \n",
      " 1   date                        23082 non-null  object \n",
      " 2   new_cases                   23082 non-null  int64  \n",
      " 3   new_deaths                  23082 non-null  int64  \n",
      " 4   population                  23018 non-null  float64\n",
      " 5   aged_65_older_percent       20643 non-null  float64\n",
      " 6   gdp_per_capita              20711 non-null  float64\n",
      " 7   hospital_beds_per_thousand  19144 non-null  float64\n",
      "dtypes: float64(4), int64(2), object(2)\n",
      "memory usage: 1.4+ MB\n"
     ]
    }
   ],
   "source": [
    "# check data types \n",
    "coviddf.info()"
   ]
  },
  {
   "cell_type": "code",
   "execution_count": 141,
   "metadata": {
    "ExecuteTime": {
     "end_time": "2022-03-24T23:42:25.174050Z",
     "start_time": "2022-03-24T23:42:25.112484Z"
    }
   },
   "outputs": [
    {
     "data": {
      "text/html": [
       "<div>\n",
       "<style scoped>\n",
       "    .dataframe tbody tr th:only-of-type {\n",
       "        vertical-align: middle;\n",
       "    }\n",
       "\n",
       "    .dataframe tbody tr th {\n",
       "        vertical-align: top;\n",
       "    }\n",
       "\n",
       "    .dataframe thead th {\n",
       "        text-align: right;\n",
       "    }\n",
       "</style>\n",
       "<table border=\"1\" class=\"dataframe\">\n",
       "  <thead>\n",
       "    <tr style=\"text-align: right;\">\n",
       "      <th></th>\n",
       "      <th>new_cases</th>\n",
       "      <th>new_deaths</th>\n",
       "      <th>population</th>\n",
       "      <th>aged_65_older_percent</th>\n",
       "      <th>gdp_per_capita</th>\n",
       "      <th>hospital_beds_per_thousand</th>\n",
       "    </tr>\n",
       "  </thead>\n",
       "  <tbody>\n",
       "    <tr>\n",
       "      <th>count</th>\n",
       "      <td>23082.000000</td>\n",
       "      <td>23082.000000</td>\n",
       "      <td>2.301800e+04</td>\n",
       "      <td>20643.000000</td>\n",
       "      <td>20711.000000</td>\n",
       "      <td>19144.000000</td>\n",
       "    </tr>\n",
       "    <tr>\n",
       "      <th>mean</th>\n",
       "      <td>624.769257</td>\n",
       "      <td>35.629062</td>\n",
       "      <td>1.037003e+08</td>\n",
       "      <td>9.758570</td>\n",
       "      <td>22708.384791</td>\n",
       "      <td>3.204687</td>\n",
       "    </tr>\n",
       "    <tr>\n",
       "      <th>std</th>\n",
       "      <td>5517.309068</td>\n",
       "      <td>330.986941</td>\n",
       "      <td>6.716897e+08</td>\n",
       "      <td>6.445662</td>\n",
       "      <td>21187.826121</td>\n",
       "      <td>2.593700</td>\n",
       "    </tr>\n",
       "    <tr>\n",
       "      <th>min</th>\n",
       "      <td>-2461.000000</td>\n",
       "      <td>-1918.000000</td>\n",
       "      <td>8.090000e+02</td>\n",
       "      <td>1.144000</td>\n",
       "      <td>661.240000</td>\n",
       "      <td>0.100000</td>\n",
       "    </tr>\n",
       "    <tr>\n",
       "      <th>25%</th>\n",
       "      <td>0.000000</td>\n",
       "      <td>0.000000</td>\n",
       "      <td>2.083380e+06</td>\n",
       "      <td>3.853000</td>\n",
       "      <td>6426.674000</td>\n",
       "      <td>1.400000</td>\n",
       "    </tr>\n",
       "    <tr>\n",
       "      <th>50%</th>\n",
       "      <td>3.000000</td>\n",
       "      <td>0.000000</td>\n",
       "      <td>9.449321e+06</td>\n",
       "      <td>7.646000</td>\n",
       "      <td>15524.995000</td>\n",
       "      <td>2.600000</td>\n",
       "    </tr>\n",
       "    <tr>\n",
       "      <th>75%</th>\n",
       "      <td>55.000000</td>\n",
       "      <td>1.000000</td>\n",
       "      <td>3.346920e+07</td>\n",
       "      <td>15.322000</td>\n",
       "      <td>35220.084000</td>\n",
       "      <td>4.210000</td>\n",
       "    </tr>\n",
       "    <tr>\n",
       "      <th>max</th>\n",
       "      <td>133510.000000</td>\n",
       "      <td>10520.000000</td>\n",
       "      <td>7.794799e+09</td>\n",
       "      <td>27.049000</td>\n",
       "      <td>116935.600000</td>\n",
       "      <td>13.800000</td>\n",
       "    </tr>\n",
       "  </tbody>\n",
       "</table>\n",
       "</div>"
      ],
      "text/plain": [
       "           new_cases    new_deaths    population  aged_65_older_percent  \\\n",
       "count   23082.000000  23082.000000  2.301800e+04           20643.000000   \n",
       "mean      624.769257     35.629062  1.037003e+08               9.758570   \n",
       "std      5517.309068    330.986941  6.716897e+08               6.445662   \n",
       "min     -2461.000000  -1918.000000  8.090000e+02               1.144000   \n",
       "25%         0.000000      0.000000  2.083380e+06               3.853000   \n",
       "50%         3.000000      0.000000  9.449321e+06               7.646000   \n",
       "75%        55.000000      1.000000  3.346920e+07              15.322000   \n",
       "max    133510.000000  10520.000000  7.794799e+09              27.049000   \n",
       "\n",
       "       gdp_per_capita  hospital_beds_per_thousand  \n",
       "count    20711.000000                19144.000000  \n",
       "mean     22708.384791                    3.204687  \n",
       "std      21187.826121                    2.593700  \n",
       "min        661.240000                    0.100000  \n",
       "25%       6426.674000                    1.400000  \n",
       "50%      15524.995000                    2.600000  \n",
       "75%      35220.084000                    4.210000  \n",
       "max     116935.600000                   13.800000  "
      ]
     },
     "execution_count": 141,
     "metadata": {},
     "output_type": "execute_result"
    }
   ],
   "source": [
    "coviddf.describe()"
   ]
  },
  {
   "cell_type": "markdown",
   "metadata": {},
   "source": [
    "We can analyze some values with this table. It seems that there are some observations that could be wrong. \n",
    "- There are negative variables for new_cases and new_deaths but if we analyze these variables in the real life they can not be negative\n",
    "- I will ignore negative values of these variables\n",
    "   "
   ]
  },
  {
   "cell_type": "code",
   "execution_count": 142,
   "metadata": {},
   "outputs": [
    {
     "data": {
      "text/html": [
       "<div>\n",
       "<style scoped>\n",
       "    .dataframe tbody tr th:only-of-type {\n",
       "        vertical-align: middle;\n",
       "    }\n",
       "\n",
       "    .dataframe tbody tr th {\n",
       "        vertical-align: top;\n",
       "    }\n",
       "\n",
       "    .dataframe thead th {\n",
       "        text-align: right;\n",
       "    }\n",
       "</style>\n",
       "<table border=\"1\" class=\"dataframe\">\n",
       "  <thead>\n",
       "    <tr style=\"text-align: right;\">\n",
       "      <th></th>\n",
       "      <th>new_cases</th>\n",
       "      <th>new_deaths</th>\n",
       "      <th>population</th>\n",
       "      <th>aged_65_older_percent</th>\n",
       "      <th>gdp_per_capita</th>\n",
       "      <th>hospital_beds_per_thousand</th>\n",
       "    </tr>\n",
       "  </thead>\n",
       "  <tbody>\n",
       "    <tr>\n",
       "      <th>count</th>\n",
       "      <td>18315.000000</td>\n",
       "      <td>18315.000000</td>\n",
       "      <td>1.831500e+04</td>\n",
       "      <td>18315.000000</td>\n",
       "      <td>18315.000000</td>\n",
       "      <td>18315.000000</td>\n",
       "    </tr>\n",
       "    <tr>\n",
       "      <th>mean</th>\n",
       "      <td>784.880207</td>\n",
       "      <td>44.881518</td>\n",
       "      <td>1.269424e+08</td>\n",
       "      <td>10.156367</td>\n",
       "      <td>23336.632846</td>\n",
       "      <td>3.126497</td>\n",
       "    </tr>\n",
       "    <tr>\n",
       "      <th>std</th>\n",
       "      <td>6183.781361</td>\n",
       "      <td>370.721681</td>\n",
       "      <td>7.510070e+08</td>\n",
       "      <td>6.461980</td>\n",
       "      <td>21236.226370</td>\n",
       "      <td>2.455429</td>\n",
       "    </tr>\n",
       "    <tr>\n",
       "      <th>min</th>\n",
       "      <td>0.000000</td>\n",
       "      <td>0.000000</td>\n",
       "      <td>9.792800e+04</td>\n",
       "      <td>1.144000</td>\n",
       "      <td>661.240000</td>\n",
       "      <td>0.100000</td>\n",
       "    </tr>\n",
       "    <tr>\n",
       "      <th>25%</th>\n",
       "      <td>0.000000</td>\n",
       "      <td>0.000000</td>\n",
       "      <td>4.105268e+06</td>\n",
       "      <td>4.469000</td>\n",
       "      <td>7485.013000</td>\n",
       "      <td>1.380000</td>\n",
       "    </tr>\n",
       "    <tr>\n",
       "      <th>50%</th>\n",
       "      <td>6.000000</td>\n",
       "      <td>0.000000</td>\n",
       "      <td>1.070898e+07</td>\n",
       "      <td>8.153000</td>\n",
       "      <td>16277.671000</td>\n",
       "      <td>2.600000</td>\n",
       "    </tr>\n",
       "    <tr>\n",
       "      <th>75%</th>\n",
       "      <td>98.000000</td>\n",
       "      <td>2.000000</td>\n",
       "      <td>4.373376e+07</td>\n",
       "      <td>15.413000</td>\n",
       "      <td>35220.084000</td>\n",
       "      <td>4.210000</td>\n",
       "    </tr>\n",
       "    <tr>\n",
       "      <th>max</th>\n",
       "      <td>133510.000000</td>\n",
       "      <td>10520.000000</td>\n",
       "      <td>7.794799e+09</td>\n",
       "      <td>27.049000</td>\n",
       "      <td>116935.600000</td>\n",
       "      <td>13.050000</td>\n",
       "    </tr>\n",
       "  </tbody>\n",
       "</table>\n",
       "</div>"
      ],
      "text/plain": [
       "           new_cases    new_deaths    population  aged_65_older_percent  \\\n",
       "count   18315.000000  18315.000000  1.831500e+04           18315.000000   \n",
       "mean      784.880207     44.881518  1.269424e+08              10.156367   \n",
       "std      6183.781361    370.721681  7.510070e+08               6.461980   \n",
       "min         0.000000      0.000000  9.792800e+04               1.144000   \n",
       "25%         0.000000      0.000000  4.105268e+06               4.469000   \n",
       "50%         6.000000      0.000000  1.070898e+07               8.153000   \n",
       "75%        98.000000      2.000000  4.373376e+07              15.413000   \n",
       "max    133510.000000  10520.000000  7.794799e+09              27.049000   \n",
       "\n",
       "       gdp_per_capita  hospital_beds_per_thousand  \n",
       "count    18315.000000                18315.000000  \n",
       "mean     23336.632846                    3.126497  \n",
       "std      21236.226370                    2.455429  \n",
       "min        661.240000                    0.100000  \n",
       "25%       7485.013000                    1.380000  \n",
       "50%      16277.671000                    2.600000  \n",
       "75%      35220.084000                    4.210000  \n",
       "max     116935.600000                   13.050000  "
      ]
     },
     "execution_count": 142,
     "metadata": {},
     "output_type": "execute_result"
    }
   ],
   "source": [
    "# ignore negative numbers of new cases and new deaths\n",
    "coviddf[coviddf.select_dtypes(include=[np.number]).ge(0).all(1)].describe()"
   ]
  },
  {
   "cell_type": "markdown",
   "metadata": {},
   "source": [
    "### Solution"
   ]
  },
  {
   "cell_type": "markdown",
   "metadata": {},
   "source": [
    "<b>9) Second Dataset, Covid19 cases. \n",
    "This dataset contains daily covidl9 cases for all countries in the world. Each row represents a calendar day. The rows also contain some simple information about the countries, like population, percentage of the population over 65, GDP and hospital beds per thousand inhabitants. Please use this dataset to answer the following questions.\n",
    "\n",
    "When did the difference in the total number of confirmed cases between Italy and Germany become more than 10 000?"
   ]
  },
  {
   "cell_type": "code",
   "execution_count": 143,
   "metadata": {
    "ExecuteTime": {
     "end_time": "2022-03-24T23:42:25.768778Z",
     "start_time": "2022-03-24T23:42:25.753152Z"
    }
   },
   "outputs": [],
   "source": [
    "# copy specific information we need of Germany and Italy\n",
    "germanydf=coviddf[coviddf['location']== 'Germany'][[\"date\",\"new_cases\"]]\n",
    "italydf=coviddf[coviddf['location']== 'Italy'][[\"date\",\"new_cases\"]]"
   ]
  },
  {
   "cell_type": "code",
   "execution_count": 144,
   "metadata": {
    "ExecuteTime": {
     "end_time": "2022-03-24T23:42:25.964079Z",
     "start_time": "2022-03-24T23:42:25.958235Z"
    }
   },
   "outputs": [],
   "source": [
    "# change the name of new cases per country\n",
    "germanydf.rename(columns={'new_cases':'new_cases_germany'}, inplace=True)\n",
    "italydf.rename(columns={'new_cases':'new_cases_italy'}, inplace=True)"
   ]
  },
  {
   "cell_type": "code",
   "execution_count": 145,
   "metadata": {
    "ExecuteTime": {
     "end_time": "2022-03-24T23:42:26.197484Z",
     "start_time": "2022-03-24T23:42:26.187721Z"
    }
   },
   "outputs": [],
   "source": [
    "# merge the information using date\n",
    "countrinfodf = pd.merge(germanydf, italydf,on='date')"
   ]
  },
  {
   "cell_type": "code",
   "execution_count": 146,
   "metadata": {
    "ExecuteTime": {
     "end_time": "2022-03-24T23:42:26.407430Z",
     "start_time": "2022-03-24T23:42:26.394750Z"
    }
   },
   "outputs": [],
   "source": [
    "# calculate the cumulative cases per country\n",
    "countrinfodf['new_cases_germany_cum'] = countrinfodf['new_cases_germany'].cumsum()\n",
    "countrinfodf['new_cases_italy_cum'] = countrinfodf['new_cases_italy'].cumsum()"
   ]
  },
  {
   "cell_type": "code",
   "execution_count": 147,
   "metadata": {
    "ExecuteTime": {
     "end_time": "2022-03-24T23:42:26.624242Z",
     "start_time": "2022-03-24T23:42:26.615457Z"
    }
   },
   "outputs": [],
   "source": [
    "# calculate the difference between variables before\n",
    "countrinfodf[\"difference_cases_cum\"]= countrinfodf[\"new_cases_italy_cum\"]-countrinfodf[\"new_cases_germany_cum\"]"
   ]
  },
  {
   "cell_type": "code",
   "execution_count": 148,
   "metadata": {
    "ExecuteTime": {
     "end_time": "2022-03-24T23:42:26.858616Z",
     "start_time": "2022-03-24T23:42:26.842018Z"
    },
    "run_control": {
     "marked": true
    }
   },
   "outputs": [
    {
     "data": {
      "text/html": [
       "<div>\n",
       "<style scoped>\n",
       "    .dataframe tbody tr th:only-of-type {\n",
       "        vertical-align: middle;\n",
       "    }\n",
       "\n",
       "    .dataframe tbody tr th {\n",
       "        vertical-align: top;\n",
       "    }\n",
       "\n",
       "    .dataframe thead th {\n",
       "        text-align: right;\n",
       "    }\n",
       "</style>\n",
       "<table border=\"1\" class=\"dataframe\">\n",
       "  <thead>\n",
       "    <tr style=\"text-align: right;\">\n",
       "      <th></th>\n",
       "      <th>date</th>\n",
       "      <th>new_cases_germany</th>\n",
       "      <th>new_cases_italy</th>\n",
       "      <th>new_cases_germany_cum</th>\n",
       "      <th>new_cases_italy_cum</th>\n",
       "      <th>difference_cases_cum</th>\n",
       "    </tr>\n",
       "  </thead>\n",
       "  <tbody>\n",
       "    <tr>\n",
       "      <th>72</th>\n",
       "      <td>2020-03-12</td>\n",
       "      <td>271</td>\n",
       "      <td>2313</td>\n",
       "      <td>1567</td>\n",
       "      <td>12462</td>\n",
       "      <td>10895</td>\n",
       "    </tr>\n",
       "  </tbody>\n",
       "</table>\n",
       "</div>"
      ],
      "text/plain": [
       "          date  new_cases_germany  new_cases_italy  new_cases_germany_cum  \\\n",
       "72  2020-03-12                271             2313                   1567   \n",
       "\n",
       "    new_cases_italy_cum  difference_cases_cum  \n",
       "72                12462                 10895  "
      ]
     },
     "execution_count": 148,
     "metadata": {},
     "output_type": "execute_result"
    }
   ],
   "source": [
    "# get the date when the difference between cases were more than 10K\n",
    "countrinfodf[countrinfodf['difference_cases_cum']>= 10000].head(1)"
   ]
  },
  {
   "cell_type": "markdown",
   "metadata": {},
   "source": [
    "R9. <b>The difference in the total number of confirmed cases between Italy and Germany became more than 10 000 at 2020-03-12"
   ]
  },
  {
   "cell_type": "markdown",
   "metadata": {},
   "source": [
    "<b>10) Look at the cumulative number of confirmed cases in Italy between 2020-02-28 and 2020-03-20. Fit an exponential function (y = Ae^(Bx)) to this set to express cumulative cases as a function of days passed, by minimizing squared loss. What is the difference between the exponential curve and the total number of real cases on 2020-03-20?"
   ]
  },
  {
   "cell_type": "code",
   "execution_count": 149,
   "metadata": {
    "ExecuteTime": {
     "end_time": "2022-03-24T23:42:27.697486Z",
     "start_time": "2022-03-24T23:42:27.689678Z"
    }
   },
   "outputs": [],
   "source": [
    "# get the necessary information about cumulative cases and dates\n",
    "italycasesdf = countrinfodf[(countrinfodf[\"date\"] >= \"2020-02-28\")&(countrinfodf[\"date\"] <= \"2020-03-20\")][[\"date\",\"new_cases_italy_cum\"]]"
   ]
  },
  {
   "cell_type": "code",
   "execution_count": 150,
   "metadata": {
    "ExecuteTime": {
     "end_time": "2022-03-24T23:42:27.952368Z",
     "start_time": "2022-03-24T23:42:27.941632Z"
    }
   },
   "outputs": [
    {
     "data": {
      "text/html": [
       "<div>\n",
       "<style scoped>\n",
       "    .dataframe tbody tr th:only-of-type {\n",
       "        vertical-align: middle;\n",
       "    }\n",
       "\n",
       "    .dataframe tbody tr th {\n",
       "        vertical-align: top;\n",
       "    }\n",
       "\n",
       "    .dataframe thead th {\n",
       "        text-align: right;\n",
       "    }\n",
       "</style>\n",
       "<table border=\"1\" class=\"dataframe\">\n",
       "  <thead>\n",
       "    <tr style=\"text-align: right;\">\n",
       "      <th></th>\n",
       "      <th>date</th>\n",
       "      <th>new_cases_italy_cum</th>\n",
       "    </tr>\n",
       "  </thead>\n",
       "  <tbody>\n",
       "    <tr>\n",
       "      <th>59</th>\n",
       "      <td>2020-02-28</td>\n",
       "      <td>650</td>\n",
       "    </tr>\n",
       "    <tr>\n",
       "      <th>60</th>\n",
       "      <td>2020-02-29</td>\n",
       "      <td>888</td>\n",
       "    </tr>\n",
       "    <tr>\n",
       "      <th>61</th>\n",
       "      <td>2020-03-01</td>\n",
       "      <td>1128</td>\n",
       "    </tr>\n",
       "    <tr>\n",
       "      <th>62</th>\n",
       "      <td>2020-03-02</td>\n",
       "      <td>1689</td>\n",
       "    </tr>\n",
       "    <tr>\n",
       "      <th>63</th>\n",
       "      <td>2020-03-03</td>\n",
       "      <td>2036</td>\n",
       "    </tr>\n",
       "  </tbody>\n",
       "</table>\n",
       "</div>"
      ],
      "text/plain": [
       "          date  new_cases_italy_cum\n",
       "59  2020-02-28                  650\n",
       "60  2020-02-29                  888\n",
       "61  2020-03-01                 1128\n",
       "62  2020-03-02                 1689\n",
       "63  2020-03-03                 2036"
      ]
     },
     "execution_count": 150,
     "metadata": {},
     "output_type": "execute_result"
    }
   ],
   "source": [
    "italycasesdf.head()"
   ]
  },
  {
   "attachments": {
    "ExpFun.PNG": {
     "image/png": "[encoded data removed]"
    }
   },
   "cell_type": "markdown",
   "metadata": {},
   "source": [
    "<b></b>![ExpFun.PNG](attachment:ExpFun.PNG)\n",
    "\n",
    "<b> Fit Exponential curve </b><br>\n",
    "To fit the cumulative cases in function of days passed using exponential formula\n",
    "to achieve the task, it is necessesary following the next steps:\n",
    " - define the independent and dependent variables, in this case x and y would be the total of days and the cumulative cases respectably \n",
    " - implement a function that represents exponential formula\n",
    " - apply curvefit function from scipy to fit data, this function uses leastsq \n",
    "\n",
    " \n",
    " \n",
    " \n",
    " "
   ]
  },
  {
   "cell_type": "code",
   "execution_count": 151,
   "metadata": {
    "ExecuteTime": {
     "end_time": "2022-03-24T23:42:28.805881Z",
     "start_time": "2022-03-24T23:42:28.508034Z"
    }
   },
   "outputs": [
    {
     "data": {
      "image/png": "[encoded data removed]",
      "text/plain": [
       "<Figure size 432x288 with 1 Axes>"
      ]
     },
     "metadata": {
      "needs_background": "light"
     },
     "output_type": "display_data"
    }
   ],
   "source": [
    "# Implement the fitting\n",
    "# define the exponential function\n",
    "def exp_func(x, a, b):\n",
    "  return a * np.exp(b * x) \n",
    "# define variables\n",
    "y_data = italycasesdf[\"new_cases_italy_cum\"]\n",
    "x_data = np.arange(0, len(y_data))\n",
    "\n",
    "# use curvefit \n",
    "popt,cov = scipy.optimize.curve_fit(exp_func, x_data, y_data)\n",
    "a,b = popt\n",
    "\n",
    "#calculate new values\n",
    "x_new_value = np.arange(min(x_data), max(x_data)+1)\n",
    "y_new_value = exp_func(x_new_value, a, b)\n",
    "\n",
    "plt.figure()\n",
    "plt.plot(x_data, y_data, '.', label=\"Data of Cumulative Cases\",color=\"black\")\n",
    "plt.plot(x_new_value, y_new_value, '--', label=\"Fitted Curve\",color=\"orange\")\n",
    "plt.legend()\n",
    "plt.show()"
   ]
  },
  {
   "cell_type": "code",
   "execution_count": 152,
   "metadata": {
    "ExecuteTime": {
     "end_time": "2022-03-24T23:42:28.815653Z",
     "start_time": "2022-03-24T23:42:28.808816Z"
    }
   },
   "outputs": [],
   "source": [
    "# add the fitted data\n",
    "italycasesdf[['new_cases_cum_fitted']] = y_new_value"
   ]
  },
  {
   "cell_type": "code",
   "execution_count": 153,
   "metadata": {
    "ExecuteTime": {
     "end_time": "2022-03-24T23:42:29.024637Z",
     "start_time": "2022-03-24T23:42:29.016823Z"
    }
   },
   "outputs": [],
   "source": [
    "italycasesdf['date'] = pd.to_datetime(italycasesdf['date'])"
   ]
  },
  {
   "cell_type": "code",
   "execution_count": 154,
   "metadata": {
    "ExecuteTime": {
     "end_time": "2022-03-24T23:42:29.853738Z",
     "start_time": "2022-03-24T23:42:29.447487Z"
    }
   },
   "outputs": [
    {
     "data": {
      "text/plain": [
       "<Figure size 432x288 with 0 Axes>"
      ]
     },
     "metadata": {},
     "output_type": "display_data"
    },
    {
     "data": {
      "image/png": "[encoded data removed]",
      "text/plain": [
       "<Figure size 1800x576 with 1 Axes>"
      ]
     },
     "metadata": {
      "needs_background": "light"
     },
     "output_type": "display_data"
    }
   ],
   "source": [
    "# plot the fitted curve and the real data\n",
    "plt.figure()\n",
    "plt.figure(figsize=(25,8))\n",
    "plt.plot(italycasesdf['date'], italycasesdf['new_cases_italy_cum'], '.', label=\"Data of Cumulative Cases\",color=\"black\")\n",
    "plt.plot(italycasesdf['date'], italycasesdf['new_cases_cum_fitted'], '--', label=\"Fitted Curve\",color=\"orange\")\n",
    "plt.legend()\n",
    "plt.show()"
   ]
  },
  {
   "cell_type": "code",
   "execution_count": 155,
   "metadata": {
    "ExecuteTime": {
     "end_time": "2022-03-24T23:42:29.870348Z",
     "start_time": "2022-03-24T23:42:29.856665Z"
    }
   },
   "outputs": [
    {
     "data": {
      "text/html": [
       "<div>\n",
       "<style scoped>\n",
       "    .dataframe tbody tr th:only-of-type {\n",
       "        vertical-align: middle;\n",
       "    }\n",
       "\n",
       "    .dataframe tbody tr th {\n",
       "        vertical-align: top;\n",
       "    }\n",
       "\n",
       "    .dataframe thead th {\n",
       "        text-align: right;\n",
       "    }\n",
       "</style>\n",
       "<table border=\"1\" class=\"dataframe\">\n",
       "  <thead>\n",
       "    <tr style=\"text-align: right;\">\n",
       "      <th></th>\n",
       "      <th>date</th>\n",
       "      <th>new_cases_italy_cum</th>\n",
       "      <th>new_cases_cum_fitted</th>\n",
       "    </tr>\n",
       "  </thead>\n",
       "  <tbody>\n",
       "    <tr>\n",
       "      <th>80</th>\n",
       "      <td>2020-03-20</td>\n",
       "      <td>41035</td>\n",
       "      <td>42608.506785</td>\n",
       "    </tr>\n",
       "  </tbody>\n",
       "</table>\n",
       "</div>"
      ],
      "text/plain": [
       "         date  new_cases_italy_cum  new_cases_cum_fitted\n",
       "80 2020-03-20                41035          42608.506785"
      ]
     },
     "execution_count": 155,
     "metadata": {},
     "output_type": "execute_result"
    }
   ],
   "source": [
    "# calculate the difference between fitted data and real data\n",
    "italycasesdf[italycasesdf[\"date\"] == \"2020-03-20\"]"
   ]
  },
  {
   "cell_type": "code",
   "execution_count": 156,
   "metadata": {
    "ExecuteTime": {
     "end_time": "2022-03-24T23:42:30.042217Z",
     "start_time": "2022-03-24T23:42:30.030497Z"
    }
   },
   "outputs": [
    {
     "name": "stdout",
     "output_type": "stream",
     "text": [
      "The difference between the exponential curve and the total number of real cases on 2020-03-20 is 1573.51\n"
     ]
    }
   ],
   "source": [
    "# calculate the difference at that day\n",
    "diff =italycasesdf.loc[italycasesdf.date==\"2020-03-20\", 'new_cases_cum_fitted'].values[0] - italycasesdf.loc[italycasesdf.date==\"2020-03-20\", 'new_cases_italy_cum'].values[0]\n",
    "print(\"The difference between the exponential curve and the total number of real cases on 2020-03-20 is\",round(diff,2))"
   ]
  },
  {
   "cell_type": "markdown",
   "metadata": {},
   "source": [
    "<b>11) Which country has the 3rd highest death rate? Death rate: total number of death per million inhabitants\n",
    "\n"
   ]
  },
  {
   "cell_type": "code",
   "execution_count": 157,
   "metadata": {
    "ExecuteTime": {
     "end_time": "2022-03-24T23:42:30.640848Z",
     "start_time": "2022-03-24T23:42:30.623269Z"
    }
   },
   "outputs": [],
   "source": [
    "# get the information per country to calculate the death rate\n",
    "deathratedf=coviddf.groupby(['location'],as_index=False).agg({'new_deaths': np.sum, 'population': np.max})"
   ]
  },
  {
   "cell_type": "code",
   "execution_count": 158,
   "metadata": {
    "ExecuteTime": {
     "end_time": "2022-03-24T23:42:30.837143Z",
     "start_time": "2022-03-24T23:42:30.828351Z"
    }
   },
   "outputs": [],
   "source": [
    "# get the information \n",
    "deathratedf[\"death_rate\"]= (deathratedf[\"new_deaths\"]/deathratedf[\"population\"])*1000000"
   ]
  },
  {
   "cell_type": "code",
   "execution_count": 159,
   "metadata": {
    "ExecuteTime": {
     "end_time": "2022-03-24T23:42:31.058821Z",
     "start_time": "2022-03-24T23:42:31.040265Z"
    }
   },
   "outputs": [
    {
     "data": {
      "text/html": [
       "<div>\n",
       "<style scoped>\n",
       "    .dataframe tbody tr th:only-of-type {\n",
       "        vertical-align: middle;\n",
       "    }\n",
       "\n",
       "    .dataframe tbody tr th {\n",
       "        vertical-align: top;\n",
       "    }\n",
       "\n",
       "    .dataframe thead th {\n",
       "        text-align: right;\n",
       "    }\n",
       "</style>\n",
       "<table border=\"1\" class=\"dataframe\">\n",
       "  <thead>\n",
       "    <tr style=\"text-align: right;\">\n",
       "      <th></th>\n",
       "      <th>location</th>\n",
       "      <th>new_deaths</th>\n",
       "      <th>population</th>\n",
       "      <th>death_rate</th>\n",
       "    </tr>\n",
       "  </thead>\n",
       "  <tbody>\n",
       "    <tr>\n",
       "      <th>163</th>\n",
       "      <td>San Marino</td>\n",
       "      <td>42</td>\n",
       "      <td>33938.0</td>\n",
       "      <td>1237.550828</td>\n",
       "    </tr>\n",
       "    <tr>\n",
       "      <th>18</th>\n",
       "      <td>Belgium</td>\n",
       "      <td>9619</td>\n",
       "      <td>11589616.0</td>\n",
       "      <td>829.967102</td>\n",
       "    </tr>\n",
       "    <tr>\n",
       "      <th>3</th>\n",
       "      <td>Andorra</td>\n",
       "      <td>51</td>\n",
       "      <td>77265.0</td>\n",
       "      <td>660.066007</td>\n",
       "    </tr>\n",
       "  </tbody>\n",
       "</table>\n",
       "</div>"
      ],
      "text/plain": [
       "       location  new_deaths  population   death_rate\n",
       "163  San Marino          42     33938.0  1237.550828\n",
       "18      Belgium        9619  11589616.0   829.967102\n",
       "3       Andorra          51     77265.0   660.066007"
      ]
     },
     "execution_count": 159,
     "metadata": {},
     "output_type": "execute_result"
    }
   ],
   "source": [
    "deathratedf.nlargest(3,['death_rate'])"
   ]
  },
  {
   "cell_type": "markdown",
   "metadata": {},
   "source": [
    "R11 <b>It shows Andorra has the 3rd highest death rate"
   ]
  },
  {
   "cell_type": "markdown",
   "metadata": {},
   "source": [
    "<b>12) What is the F1 score of the following statement: Countries, where more than 20% of the population is over 65 years old, have death rates over 50 per million inhabitants. Ignore countries, where any of the necessary information is missing!"
   ]
  },
  {
   "cell_type": "code",
   "execution_count": 160,
   "metadata": {},
   "outputs": [],
   "source": [
    "countdeathrate=coviddf[coviddf[\"aged_65_older_percent\"]>20]"
   ]
  },
  {
   "cell_type": "code",
   "execution_count": 161,
   "metadata": {
    "ExecuteTime": {
     "end_time": "2022-03-24T23:42:32.206289Z",
     "start_time": "2022-03-24T23:42:32.191631Z"
    }
   },
   "outputs": [],
   "source": [
    "# get the information of percentage with people over 65 years old per country \n",
    "countdeathrate=countdeathrate.groupby(['location'],as_index=False).agg({'aged_65_older_percent': np.max})"
   ]
  },
  {
   "cell_type": "code",
   "execution_count": 162,
   "metadata": {},
   "outputs": [
    {
     "data": {
      "text/html": [
       "<div>\n",
       "<style scoped>\n",
       "    .dataframe tbody tr th:only-of-type {\n",
       "        vertical-align: middle;\n",
       "    }\n",
       "\n",
       "    .dataframe tbody tr th {\n",
       "        vertical-align: top;\n",
       "    }\n",
       "\n",
       "    .dataframe thead th {\n",
       "        text-align: right;\n",
       "    }\n",
       "</style>\n",
       "<table border=\"1\" class=\"dataframe\">\n",
       "  <thead>\n",
       "    <tr style=\"text-align: right;\">\n",
       "      <th></th>\n",
       "      <th>location</th>\n",
       "      <th>aged_65_older_percent</th>\n",
       "    </tr>\n",
       "  </thead>\n",
       "  <tbody>\n",
       "    <tr>\n",
       "      <th>0</th>\n",
       "      <td>Bulgaria</td>\n",
       "      <td>20.801</td>\n",
       "    </tr>\n",
       "    <tr>\n",
       "      <th>1</th>\n",
       "      <td>Finland</td>\n",
       "      <td>21.228</td>\n",
       "    </tr>\n",
       "    <tr>\n",
       "      <th>2</th>\n",
       "      <td>Germany</td>\n",
       "      <td>21.453</td>\n",
       "    </tr>\n",
       "    <tr>\n",
       "      <th>3</th>\n",
       "      <td>Greece</td>\n",
       "      <td>20.396</td>\n",
       "    </tr>\n",
       "    <tr>\n",
       "      <th>4</th>\n",
       "      <td>Italy</td>\n",
       "      <td>23.021</td>\n",
       "    </tr>\n",
       "    <tr>\n",
       "      <th>5</th>\n",
       "      <td>Japan</td>\n",
       "      <td>27.049</td>\n",
       "    </tr>\n",
       "    <tr>\n",
       "      <th>6</th>\n",
       "      <td>Portugal</td>\n",
       "      <td>21.502</td>\n",
       "    </tr>\n",
       "  </tbody>\n",
       "</table>\n",
       "</div>"
      ],
      "text/plain": [
       "   location  aged_65_older_percent\n",
       "0  Bulgaria                 20.801\n",
       "1   Finland                 21.228\n",
       "2   Germany                 21.453\n",
       "3    Greece                 20.396\n",
       "4     Italy                 23.021\n",
       "5     Japan                 27.049\n",
       "6  Portugal                 21.502"
      ]
     },
     "execution_count": 162,
     "metadata": {},
     "output_type": "execute_result"
    }
   ],
   "source": [
    "countdeathrate"
   ]
  },
  {
   "cell_type": "code",
   "execution_count": 163,
   "metadata": {},
   "outputs": [
    {
     "data": {
      "text/html": [
       "<div>\n",
       "<style scoped>\n",
       "    .dataframe tbody tr th:only-of-type {\n",
       "        vertical-align: middle;\n",
       "    }\n",
       "\n",
       "    .dataframe tbody tr th {\n",
       "        vertical-align: top;\n",
       "    }\n",
       "\n",
       "    .dataframe thead th {\n",
       "        text-align: right;\n",
       "    }\n",
       "</style>\n",
       "<table border=\"1\" class=\"dataframe\">\n",
       "  <thead>\n",
       "    <tr style=\"text-align: right;\">\n",
       "      <th></th>\n",
       "      <th>location</th>\n",
       "      <th>aged_65_older_percent</th>\n",
       "      <th>new_deaths</th>\n",
       "      <th>population</th>\n",
       "      <th>death_rate</th>\n",
       "    </tr>\n",
       "  </thead>\n",
       "  <tbody>\n",
       "    <tr>\n",
       "      <th>0</th>\n",
       "      <td>Bulgaria</td>\n",
       "      <td>20.801</td>\n",
       "      <td>167</td>\n",
       "      <td>6948445.0</td>\n",
       "      <td>24.034154</td>\n",
       "    </tr>\n",
       "    <tr>\n",
       "      <th>1</th>\n",
       "      <td>Finland</td>\n",
       "      <td>21.228</td>\n",
       "      <td>324</td>\n",
       "      <td>5540718.0</td>\n",
       "      <td>58.476176</td>\n",
       "    </tr>\n",
       "    <tr>\n",
       "      <th>2</th>\n",
       "      <td>Germany</td>\n",
       "      <td>21.453</td>\n",
       "      <td>8729</td>\n",
       "      <td>83783945.0</td>\n",
       "      <td>104.184638</td>\n",
       "    </tr>\n",
       "    <tr>\n",
       "      <th>3</th>\n",
       "      <td>Greece</td>\n",
       "      <td>20.396</td>\n",
       "      <td>183</td>\n",
       "      <td>10423056.0</td>\n",
       "      <td>17.557231</td>\n",
       "    </tr>\n",
       "    <tr>\n",
       "      <th>4</th>\n",
       "      <td>Italy</td>\n",
       "      <td>23.021</td>\n",
       "      <td>34043</td>\n",
       "      <td>60461828.0</td>\n",
       "      <td>563.049467</td>\n",
       "    </tr>\n",
       "    <tr>\n",
       "      <th>5</th>\n",
       "      <td>Japan</td>\n",
       "      <td>27.049</td>\n",
       "      <td>919</td>\n",
       "      <td>126476458.0</td>\n",
       "      <td>7.266174</td>\n",
       "    </tr>\n",
       "    <tr>\n",
       "      <th>6</th>\n",
       "      <td>Portugal</td>\n",
       "      <td>21.502</td>\n",
       "      <td>1492</td>\n",
       "      <td>10196707.0</td>\n",
       "      <td>146.321749</td>\n",
       "    </tr>\n",
       "  </tbody>\n",
       "</table>\n",
       "</div>"
      ],
      "text/plain": [
       "   location  aged_65_older_percent  new_deaths   population  death_rate\n",
       "0  Bulgaria                 20.801         167    6948445.0   24.034154\n",
       "1   Finland                 21.228         324    5540718.0   58.476176\n",
       "2   Germany                 21.453        8729   83783945.0  104.184638\n",
       "3    Greece                 20.396         183   10423056.0   17.557231\n",
       "4     Italy                 23.021       34043   60461828.0  563.049467\n",
       "5     Japan                 27.049         919  126476458.0    7.266174\n",
       "6  Portugal                 21.502        1492   10196707.0  146.321749"
      ]
     },
     "execution_count": 163,
     "metadata": {},
     "output_type": "execute_result"
    }
   ],
   "source": [
    "countdeathrate = pd.merge(countdeathrate, deathratedf,on='location')\n",
    "countdeathrate"
   ]
  },
  {
   "cell_type": "markdown",
   "metadata": {},
   "source": [
    "<b>13) What is the probability that a country has GDP over $10 000, if we know that they have at least 5 hospital beds per 1000 inhabitants."
   ]
  },
  {
   "cell_type": "code",
   "execution_count": 89,
   "metadata": {
    "ExecuteTime": {
     "end_time": "2022-03-25T00:42:24.160946Z",
     "start_time": "2022-03-25T00:42:24.153141Z"
    }
   },
   "outputs": [],
   "source": [
    "# filter the countries where they have at least 5 hospital per 1000 inhb\n",
    "gdp=coviddf[coviddf[\"hospital_beds_per_thousand\"]>=5]"
   ]
  },
  {
   "cell_type": "code",
   "execution_count": 92,
   "metadata": {},
   "outputs": [],
   "source": [
    "# get the information per country\n",
    "gdp=gdp.groupby(['location'],as_index=False).agg({'gdp_per_capita': np.max, 'hospital_beds_per_thousand': np.max})"
   ]
  },
  {
   "cell_type": "code",
   "execution_count": 100,
   "metadata": {},
   "outputs": [],
   "source": [
    "# delete nan values\n",
    "gdp=gdp.dropna()"
   ]
  },
  {
   "cell_type": "code",
   "execution_count": 103,
   "metadata": {
    "ExecuteTime": {
     "end_time": "2022-03-25T00:42:37.184393Z",
     "start_time": "2022-03-25T00:42:36.522283Z"
    }
   },
   "outputs": [
    {
     "data": {
      "text/plain": [
       "<AxesSubplot:xlabel='gdp_per_capita', ylabel='Density'>"
      ]
     },
     "execution_count": 103,
     "metadata": {},
     "output_type": "execute_result"
    },
    {
     "data": {
      "image/png": "[encoded data removed]",
      "text/plain": [
       "<Figure size 432x288 with 1 Axes>"
      ]
     },
     "metadata": {
      "needs_background": "light"
     },
     "output_type": "display_data"
    }
   ],
   "source": [
    "# this graphic shows the distribution of data\n",
    "sb.distplot(gdp[\"gdp_per_capita\"])"
   ]
  },
  {
   "cell_type": "code",
   "execution_count": 105,
   "metadata": {},
   "outputs": [
    {
     "data": {
      "text/plain": [
       "count       26.000000\n",
       "mean     24875.705538\n",
       "std      11583.134812\n",
       "min       5189.972000\n",
       "25%      17025.542750\n",
       "50%      24410.771000\n",
       "75%      31993.217500\n",
       "max      45436.686000\n",
       "Name: gdp_per_capita, dtype: float64"
      ]
     },
     "execution_count": 105,
     "metadata": {},
     "output_type": "execute_result"
    }
   ],
   "source": [
    "# get the mean and std\n",
    "gdp[\"gdp_per_capita\"].describe()"
   ]
  },
  {
   "cell_type": "code",
   "execution_count": 110,
   "metadata": {},
   "outputs": [
    {
     "data": {
      "text/plain": [
       "1709.4400000000023"
      ]
     },
     "execution_count": 110,
     "metadata": {},
     "output_type": "execute_result"
    }
   ],
   "source": [
    "24875.70-(11583.13*2)"
   ]
  },
  {
   "cell_type": "markdown",
   "metadata": {},
   "source": [
    "<b>we need to calculate P(X>10000)"
   ]
  },
  {
   "cell_type": "code",
   "execution_count": 120,
   "metadata": {},
   "outputs": [],
   "source": [
    "x = 10000"
   ]
  },
  {
   "cell_type": "code",
   "execution_count": 121,
   "metadata": {},
   "outputs": [],
   "source": [
    "# get z score value\n",
    "z_value = (x-gdp[\"gdp_per_capita\"].mean())/gdp[\"gdp_per_capita\"].std()"
   ]
  },
  {
   "cell_type": "code",
   "execution_count": 122,
   "metadata": {},
   "outputs": [
    {
     "data": {
      "text/plain": [
       "0.09952627149745163"
      ]
     },
     "execution_count": 122,
     "metadata": {},
     "output_type": "execute_result"
    }
   ],
   "source": [
    "# obtain the probability of z score\n",
    "scipy.stats.norm.cdf(z_value)"
   ]
  },
  {
   "cell_type": "code",
   "execution_count": 128,
   "metadata": {},
   "outputs": [
    {
     "name": "stdout",
     "output_type": "stream",
     "text": [
      "The probability that a country has GDP over $10 000  is  90.047\n"
     ]
    }
   ],
   "source": [
    "# get the probability of p(x>100000)\n",
    "print(\"The probability that a country has GDP over $10 000  is \",round((1-scipy.stats.norm.cdf(z_value))*100,3))"
   ]
  },
  {
   "cell_type": "markdown",
   "metadata": {},
   "source": [
    "R13.<b>The probability that a country has GDP over $10 000  is  90.047"
   ]
  }
 ],
 "metadata": {
  "kernelspec": {
   "display_name": "Python 3",
   "language": "python",
   "name": "python3"
  },
  "language_info": {
   "codemirror_mode": {
    "name": "ipython",
    "version": 3
   },
   "file_extension": ".py",
   "mimetype": "text/x-python",
   "name": "python",
   "nbconvert_exporter": "python",
   "pygments_lexer": "ipython3",
   "version": "3.8.8"
  },
  "toc": {
   "base_numbering": 1,
   "nav_menu": {},
   "number_sections": true,
   "sideBar": true,
   "skip_h1_title": false,
   "title_cell": "Table of Contents",
   "title_sidebar": "Contents",
   "toc_cell": false,
   "toc_position": {},
   "toc_section_display": true,
   "toc_window_display": false
  }
 },
 "nbformat": 4,
 "nbformat_minor": 4
}
