{
 "cells": [
  {
   "cell_type": "code",
   "execution_count": 210,
   "metadata": {
    "ExecuteTime": {
     "end_time": "2022-03-25T01:53:43.092502Z",
     "start_time": "2022-03-25T01:53:43.082737Z"
    }
   },
   "outputs": [],
   "source": [
    "# Import libraries \n",
    "import matplotlib.pyplot as plt\n",
    "import os, requests\n",
    "import numpy as np\n",
    "import pandas as pd\n",
    "import csv\n",
    "import seaborn as sb\n",
    "import matplotlib as pt\n",
    "from scipy import stats\n",
    "from matplotlib import rcParams\n",
    "import statsmodels.stats.proportion as proportion\n",
    "import warnings\n",
    "warnings.filterwarnings('ignore') \n",
    "%matplotlib inline"
   ]
  },
  {
   "cell_type": "markdown",
   "metadata": {},
   "source": [
    "### Load Dataset"
   ]
  },
  {
   "cell_type": "code",
   "execution_count": 3,
   "metadata": {
    "ExecuteTime": {
     "end_time": "2022-03-25T01:53:44.975310Z",
     "start_time": "2022-03-25T01:53:44.969460Z"
    }
   },
   "outputs": [],
   "source": [
    "# Add file location\n",
    "os.chdir('C:\\\\Users\\\\francon\\\\Downloads\\\\data')"
   ]
  },
  {
   "cell_type": "code",
   "execution_count": 4,
   "metadata": {
    "ExecuteTime": {
     "end_time": "2022-03-25T01:53:45.901095Z",
     "start_time": "2022-03-25T01:53:45.749683Z"
    }
   },
   "outputs": [],
   "source": [
    "# Load necessary  files into dataframes\n",
    "cardiodf = pd.read_csv(\"cardio_base.csv\", error_bad_lines=False, warn_bad_lines=False, encoding='latin-1',delimiter = \",\")\n",
    "alcodf = pd.read_csv(\"cardio_alco.csv\", error_bad_lines=False, warn_bad_lines=False, encoding='latin-1',delimiter = \";\")"
   ]
  },
  {
   "cell_type": "code",
   "execution_count": 5,
   "metadata": {
    "ExecuteTime": {
     "end_time": "2022-03-25T01:53:46.654020Z",
     "start_time": "2022-03-25T01:53:46.639382Z"
    },
    "scrolled": true
   },
   "outputs": [
    {
     "data": {
      "text/html": [
       "<div>\n",
       "<style scoped>\n",
       "    .dataframe tbody tr th:only-of-type {\n",
       "        vertical-align: middle;\n",
       "    }\n",
       "\n",
       "    .dataframe tbody tr th {\n",
       "        vertical-align: top;\n",
       "    }\n",
       "\n",
       "    .dataframe thead th {\n",
       "        text-align: right;\n",
       "    }\n",
       "</style>\n",
       "<table border=\"1\" class=\"dataframe\">\n",
       "  <thead>\n",
       "    <tr style=\"text-align: right;\">\n",
       "      <th></th>\n",
       "      <th>id</th>\n",
       "      <th>age</th>\n",
       "      <th>gender</th>\n",
       "      <th>height</th>\n",
       "      <th>weight</th>\n",
       "      <th>ap_hi</th>\n",
       "      <th>ap_lo</th>\n",
       "      <th>cholesterol</th>\n",
       "      <th>smoke</th>\n",
       "    </tr>\n",
       "  </thead>\n",
       "  <tbody>\n",
       "    <tr>\n",
       "      <th>0</th>\n",
       "      <td>0</td>\n",
       "      <td>18393</td>\n",
       "      <td>2</td>\n",
       "      <td>168</td>\n",
       "      <td>62.0</td>\n",
       "      <td>110</td>\n",
       "      <td>80</td>\n",
       "      <td>1</td>\n",
       "      <td>0</td>\n",
       "    </tr>\n",
       "  </tbody>\n",
       "</table>\n",
       "</div>"
      ],
      "text/plain": [
       "   id    age  gender  height  weight  ap_hi  ap_lo  cholesterol  smoke\n",
       "0   0  18393       2     168    62.0    110     80            1      0"
      ]
     },
     "execution_count": 5,
     "metadata": {},
     "output_type": "execute_result"
    }
   ],
   "source": [
    "# check df\n",
    "cardiodf.head(1)"
   ]
  },
  {
   "cell_type": "markdown",
   "metadata": {
    "heading_collapsed": true
   },
   "source": [
    "### Data Cleaning"
   ]
  },
  {
   "cell_type": "code",
   "execution_count": 84,
   "metadata": {
    "ExecuteTime": {
     "end_time": "2022-03-25T01:53:50.376689Z",
     "start_time": "2022-03-25T01:53:50.315165Z"
    },
    "hidden": true
   },
   "outputs": [
    {
     "name": "stdout",
     "output_type": "stream",
     "text": [
      "id\n",
      "False    70000\n",
      "Name: id, dtype: int64\n",
      "age\n",
      "False    70000\n",
      "Name: age, dtype: int64\n",
      "gender\n",
      "False    70000\n",
      "Name: gender, dtype: int64\n",
      "height\n",
      "False    70000\n",
      "Name: height, dtype: int64\n",
      "weight\n",
      "False    70000\n",
      "Name: weight, dtype: int64\n",
      "ap_hi\n",
      "False    70000\n",
      "Name: ap_hi, dtype: int64\n",
      "ap_lo\n",
      "False    70000\n",
      "Name: ap_lo, dtype: int64\n",
      "cholesterol\n",
      "False    70000\n",
      "Name: cholesterol, dtype: int64\n",
      "smoke\n",
      "False    70000\n",
      "Name: smoke, dtype: int64\n",
      "alco\n",
      "False    56903\n",
      "True     13097\n",
      "Name: alco, dtype: int64\n"
     ]
    }
   ],
   "source": [
    "# Verify missing data per column\n",
    "for column in cardiodf.isnull().columns.values.tolist():  \n",
    "    print(column)\n",
    "    print(cardiodf.isnull()[column].value_counts()) "
   ]
  },
  {
   "cell_type": "code",
   "execution_count": 7,
   "metadata": {
    "ExecuteTime": {
     "end_time": "2022-03-25T01:53:51.620832Z",
     "start_time": "2022-03-25T01:53:51.601302Z"
    },
    "hidden": true
   },
   "outputs": [
    {
     "name": "stdout",
     "output_type": "stream",
     "text": [
      "<class 'pandas.core.frame.DataFrame'>\n",
      "RangeIndex: 70000 entries, 0 to 69999\n",
      "Data columns (total 9 columns):\n",
      " #   Column       Non-Null Count  Dtype  \n",
      "---  ------       --------------  -----  \n",
      " 0   id           70000 non-null  int64  \n",
      " 1   age          70000 non-null  int64  \n",
      " 2   gender       70000 non-null  int64  \n",
      " 3   height       70000 non-null  int64  \n",
      " 4   weight       70000 non-null  float64\n",
      " 5   ap_hi        70000 non-null  int64  \n",
      " 6   ap_lo        70000 non-null  int64  \n",
      " 7   cholesterol  70000 non-null  int64  \n",
      " 8   smoke        70000 non-null  int64  \n",
      "dtypes: float64(1), int64(8)\n",
      "memory usage: 4.8 MB\n"
     ]
    }
   ],
   "source": [
    "# Check datatype\n",
    "cardiodf.info()"
   ]
  },
  {
   "cell_type": "code",
   "execution_count": 8,
   "metadata": {
    "ExecuteTime": {
     "end_time": "2022-03-25T01:53:56.649154Z",
     "start_time": "2022-03-25T01:53:56.637436Z"
    },
    "hidden": true,
    "run_control": {
     "marked": true
    }
   },
   "outputs": [],
   "source": [
    "# convert days into years and round down column age\n",
    "cardiodf['age'] = (cardiodf['age']/365).apply(np.floor).astype('int')"
   ]
  },
  {
   "cell_type": "code",
   "execution_count": 9,
   "metadata": {
    "ExecuteTime": {
     "end_time": "2022-03-25T01:53:57.832782Z",
     "start_time": "2022-03-25T01:53:57.756576Z"
    },
    "hidden": true
   },
   "outputs": [
    {
     "data": {
      "text/html": [
       "<div>\n",
       "<style scoped>\n",
       "    .dataframe tbody tr th:only-of-type {\n",
       "        vertical-align: middle;\n",
       "    }\n",
       "\n",
       "    .dataframe tbody tr th {\n",
       "        vertical-align: top;\n",
       "    }\n",
       "\n",
       "    .dataframe thead th {\n",
       "        text-align: right;\n",
       "    }\n",
       "</style>\n",
       "<table border=\"1\" class=\"dataframe\">\n",
       "  <thead>\n",
       "    <tr style=\"text-align: right;\">\n",
       "      <th></th>\n",
       "      <th>id</th>\n",
       "      <th>age</th>\n",
       "      <th>gender</th>\n",
       "      <th>height</th>\n",
       "      <th>weight</th>\n",
       "      <th>ap_hi</th>\n",
       "      <th>ap_lo</th>\n",
       "      <th>cholesterol</th>\n",
       "      <th>smoke</th>\n",
       "    </tr>\n",
       "  </thead>\n",
       "  <tbody>\n",
       "    <tr>\n",
       "      <th>count</th>\n",
       "      <td>70000.000000</td>\n",
       "      <td>70000.000000</td>\n",
       "      <td>70000.000000</td>\n",
       "      <td>70000.000000</td>\n",
       "      <td>70000.000000</td>\n",
       "      <td>70000.000000</td>\n",
       "      <td>70000.000000</td>\n",
       "      <td>70000.000000</td>\n",
       "      <td>70000.000000</td>\n",
       "    </tr>\n",
       "    <tr>\n",
       "      <th>mean</th>\n",
       "      <td>49972.419900</td>\n",
       "      <td>52.840671</td>\n",
       "      <td>1.349571</td>\n",
       "      <td>164.359229</td>\n",
       "      <td>74.205690</td>\n",
       "      <td>128.817286</td>\n",
       "      <td>96.630414</td>\n",
       "      <td>1.366871</td>\n",
       "      <td>0.088129</td>\n",
       "    </tr>\n",
       "    <tr>\n",
       "      <th>std</th>\n",
       "      <td>28851.302323</td>\n",
       "      <td>6.766774</td>\n",
       "      <td>0.476838</td>\n",
       "      <td>8.210126</td>\n",
       "      <td>14.395757</td>\n",
       "      <td>154.011419</td>\n",
       "      <td>188.472530</td>\n",
       "      <td>0.680250</td>\n",
       "      <td>0.283484</td>\n",
       "    </tr>\n",
       "    <tr>\n",
       "      <th>min</th>\n",
       "      <td>0.000000</td>\n",
       "      <td>29.000000</td>\n",
       "      <td>1.000000</td>\n",
       "      <td>55.000000</td>\n",
       "      <td>10.000000</td>\n",
       "      <td>-150.000000</td>\n",
       "      <td>-70.000000</td>\n",
       "      <td>1.000000</td>\n",
       "      <td>0.000000</td>\n",
       "    </tr>\n",
       "    <tr>\n",
       "      <th>25%</th>\n",
       "      <td>25006.750000</td>\n",
       "      <td>48.000000</td>\n",
       "      <td>1.000000</td>\n",
       "      <td>159.000000</td>\n",
       "      <td>65.000000</td>\n",
       "      <td>120.000000</td>\n",
       "      <td>80.000000</td>\n",
       "      <td>1.000000</td>\n",
       "      <td>0.000000</td>\n",
       "    </tr>\n",
       "    <tr>\n",
       "      <th>50%</th>\n",
       "      <td>50001.500000</td>\n",
       "      <td>53.000000</td>\n",
       "      <td>1.000000</td>\n",
       "      <td>165.000000</td>\n",
       "      <td>72.000000</td>\n",
       "      <td>120.000000</td>\n",
       "      <td>80.000000</td>\n",
       "      <td>1.000000</td>\n",
       "      <td>0.000000</td>\n",
       "    </tr>\n",
       "    <tr>\n",
       "      <th>75%</th>\n",
       "      <td>74889.250000</td>\n",
       "      <td>58.000000</td>\n",
       "      <td>2.000000</td>\n",
       "      <td>170.000000</td>\n",
       "      <td>82.000000</td>\n",
       "      <td>140.000000</td>\n",
       "      <td>90.000000</td>\n",
       "      <td>2.000000</td>\n",
       "      <td>0.000000</td>\n",
       "    </tr>\n",
       "    <tr>\n",
       "      <th>max</th>\n",
       "      <td>99999.000000</td>\n",
       "      <td>64.000000</td>\n",
       "      <td>2.000000</td>\n",
       "      <td>250.000000</td>\n",
       "      <td>200.000000</td>\n",
       "      <td>16020.000000</td>\n",
       "      <td>11000.000000</td>\n",
       "      <td>3.000000</td>\n",
       "      <td>1.000000</td>\n",
       "    </tr>\n",
       "  </tbody>\n",
       "</table>\n",
       "</div>"
      ],
      "text/plain": [
       "                 id           age        gender        height        weight  \\\n",
       "count  70000.000000  70000.000000  70000.000000  70000.000000  70000.000000   \n",
       "mean   49972.419900     52.840671      1.349571    164.359229     74.205690   \n",
       "std    28851.302323      6.766774      0.476838      8.210126     14.395757   \n",
       "min        0.000000     29.000000      1.000000     55.000000     10.000000   \n",
       "25%    25006.750000     48.000000      1.000000    159.000000     65.000000   \n",
       "50%    50001.500000     53.000000      1.000000    165.000000     72.000000   \n",
       "75%    74889.250000     58.000000      2.000000    170.000000     82.000000   \n",
       "max    99999.000000     64.000000      2.000000    250.000000    200.000000   \n",
       "\n",
       "              ap_hi         ap_lo   cholesterol         smoke  \n",
       "count  70000.000000  70000.000000  70000.000000  70000.000000  \n",
       "mean     128.817286     96.630414      1.366871      0.088129  \n",
       "std      154.011419    188.472530      0.680250      0.283484  \n",
       "min     -150.000000    -70.000000      1.000000      0.000000  \n",
       "25%      120.000000     80.000000      1.000000      0.000000  \n",
       "50%      120.000000     80.000000      1.000000      0.000000  \n",
       "75%      140.000000     90.000000      2.000000      0.000000  \n",
       "max    16020.000000  11000.000000      3.000000      1.000000  "
      ]
     },
     "execution_count": 9,
     "metadata": {},
     "output_type": "execute_result"
    }
   ],
   "source": [
    "# show statistics information\n",
    "cardiodf.describe()"
   ]
  },
  {
   "cell_type": "markdown",
   "metadata": {
    "hidden": true
   },
   "source": [
    "We can analyze some values with this table. It seems they are some observations that it could be outliers that represent variance or a mistake in the data. \n",
    "- The minimum weight is 10. There are people with 165 height and 10 of weight, so this could be wrong data. \n",
    "At this point it is important to evaluate dropping this information before analyzing the variables or investigate if it is wrong data or represents an outlier.\n",
    "\n",
    "- I consider investigate the outliers before dropping the weight and height"
   ]
  },
  {
   "cell_type": "markdown",
   "metadata": {
    "ExecuteTime": {
     "end_time": "2022-03-25T01:51:08.951805Z",
     "start_time": "2022-03-25T01:51:08.947861Z"
    }
   },
   "source": [
    "### Bivariate Analysis"
   ]
  },
  {
   "cell_type": "markdown",
   "metadata": {},
   "source": [
    "<b> 1.When asked about age, please calculate with age in years rounded down. \n",
    "How much heavier is the age group with the highest average weight than the age group with the lowest weight?</b>"
   ]
  },
  {
   "cell_type": "code",
   "execution_count": 10,
   "metadata": {
    "ExecuteTime": {
     "end_time": "2022-03-25T01:54:18.810303Z",
     "start_time": "2022-03-25T01:54:18.391345Z"
    },
    "run_control": {
     "marked": true
    }
   },
   "outputs": [
    {
     "data": {
      "text/plain": [
       "<AxesSubplot:xlabel='age', ylabel='weight'>"
      ]
     },
     "execution_count": 10,
     "metadata": {},
     "output_type": "execute_result"
    },
    {
     "data": {
      "image/png": "[encoded data removed]",
      "text/plain": [
       "<Figure size 720x288 with 1 Axes>"
      ]
     },
     "metadata": {
      "needs_background": "light"
     },
     "output_type": "display_data"
    }
   ],
   "source": [
    "# we converted the age in years\n",
    "plt.figure(figsize=(10,4))\n",
    "sb.lineplot(data=cardiodf.groupby('age')['weight'].mean(), linestyle=\"--\")"
   ]
  },
  {
   "cell_type": "code",
   "execution_count": 11,
   "metadata": {
    "ExecuteTime": {
     "end_time": "2022-03-25T03:23:03.221801Z",
     "start_time": "2022-03-25T03:23:03.208130Z"
    },
    "scrolled": true
   },
   "outputs": [
    {
     "data": {
      "text/plain": [
       "16.873720760233923"
      ]
     },
     "execution_count": 11,
     "metadata": {},
     "output_type": "execute_result"
    }
   ],
   "source": [
    "cardiodf.groupby(['age'])['weight'].mean().max()-cardiodf.groupby(['age'])['weight'].mean().min()"
   ]
  },
  {
   "cell_type": "markdown",
   "metadata": {
    "ExecuteTime": {
     "end_time": "2022-03-23T12:51:39.005656Z",
     "start_time": "2022-03-23T12:51:38.999755Z"
    }
   },
   "source": [
    "R1.<b>As we can see the age group with the highest average is 63 years with an average of 75,8 and the lowest weight is 30 years with 59. People with the highest average is 16,8 weightier than lowest.\n"
   ]
  },
  {
   "cell_type": "markdown",
   "metadata": {},
   "source": [
    "<b> 2.Do people over 50 have higher cholesterol levels than the rest? If so, what is the percentage of that difference?"
   ]
  },
  {
   "cell_type": "code",
   "execution_count": 12,
   "metadata": {
    "ExecuteTime": {
     "end_time": "2022-03-23T12:57:42.819950Z",
     "start_time": "2022-03-23T12:57:41.466401Z"
    }
   },
   "outputs": [
    {
     "data": {
      "image/png": "[encoded data removed]",
      "text/plain": [
       "<Figure size 1080x360 with 2 Axes>"
      ]
     },
     "metadata": {
      "needs_background": "light"
     },
     "output_type": "display_data"
    }
   ],
   "source": [
    "from matplotlib import rcParams\n",
    "rcParams['figure.figsize'] = 15, 5\n",
    "fig, ax =plt.subplots(1,2)\n",
    "sb.countplot(x='age', hue='cholesterol', data = cardiodf[(cardiodf[\"age\"] <50)], palette=\"tab20\", ax=ax[0]).set(title='People under 50')\n",
    "sb.countplot(x='age', hue='cholesterol', data = cardiodf[(cardiodf[\"age\"] >=50)], palette=\"tab20\", ax=ax[1]).set(title='People over 50')\n",
    "fig.show()"
   ]
  },
  {
   "cell_type": "markdown",
   "metadata": {},
   "source": [
    "- It can be observed that people over 50 have higher cholesterol levels than the rest considering the levels 2 and 3 are higher than 1"
   ]
  },
  {
   "cell_type": "code",
   "execution_count": 13,
   "metadata": {
    "ExecuteTime": {
     "end_time": "2022-03-25T04:23:11.580777Z",
     "start_time": "2022-03-25T04:23:11.568091Z"
    }
   },
   "outputs": [],
   "source": [
    "cholesdf = pd.DataFrame()\n",
    "cholesdf[\"total_cholesterol\"]=cardiodf.groupby('cholesterol')['id'].count()"
   ]
  },
  {
   "cell_type": "code",
   "execution_count": 14,
   "metadata": {
    "ExecuteTime": {
     "end_time": "2022-03-25T04:24:34.426549Z",
     "start_time": "2022-03-25T04:24:34.409921Z"
    }
   },
   "outputs": [],
   "source": [
    " # get the people count   over 50 years per level of cholesterol\n",
    "cholesdf[\"cholesterol_over_50\"]=cardiodf[(cardiodf[\"age\"]>50)].groupby('cholesterol')['id'].count()\n",
    "#get the people count   lower than 50 years per level of cholesterol\n",
    "cholesdf[\"cholesterol_under_50\"]=cardiodf[(cardiodf[\"age\"]<=50)].groupby('cholesterol')['id'].count()"
   ]
  },
  {
   "cell_type": "code",
   "execution_count": 15,
   "metadata": {
    "ExecuteTime": {
     "end_time": "2022-03-25T04:28:33.446161Z",
     "start_time": "2022-03-25T04:28:33.435418Z"
    },
    "run_control": {
     "marked": true
    }
   },
   "outputs": [],
   "source": [
    "# obtain the percentages\n",
    "cholesdf[\"cholesterol_over_50_perc\"]=round((cholesdf[\"cholesterol_over_50\"]/cholesdf[\"total_cholesterol\"])*100,2)\n",
    "cholesdf[\"cholesterol_under_50_perc\"]=round((cholesdf[\"cholesterol_under_50\"]/cholesdf[\"total_cholesterol\"])*100,2)"
   ]
  },
  {
   "cell_type": "code",
   "execution_count": 16,
   "metadata": {
    "ExecuteTime": {
     "end_time": "2022-03-25T04:30:28.446215Z",
     "start_time": "2022-03-25T04:30:28.440354Z"
    }
   },
   "outputs": [],
   "source": [
    "# obtain the differences per level\n",
    "cholesdf[\"cholesterol_diff_perc\"]=cholesdf[\"cholesterol_over_50_perc\"]-cholesdf[\"cholesterol_under_50_perc\"]"
   ]
  },
  {
   "cell_type": "markdown",
   "metadata": {
    "ExecuteTime": {
     "end_time": "2022-03-25T05:00:07.216578Z",
     "start_time": "2022-03-25T05:00:07.209743Z"
    }
   },
   "source": [
    " - I calculated the difference on each level, so we can check the percentage of differences per level of cholesterol"
   ]
  },
  {
   "cell_type": "code",
   "execution_count": 17,
   "metadata": {
    "ExecuteTime": {
     "end_time": "2022-03-25T04:57:19.785832Z",
     "start_time": "2022-03-25T04:57:19.771186Z"
    }
   },
   "outputs": [
    {
     "data": {
      "text/html": [
       "<div>\n",
       "<style scoped>\n",
       "    .dataframe tbody tr th:only-of-type {\n",
       "        vertical-align: middle;\n",
       "    }\n",
       "\n",
       "    .dataframe tbody tr th {\n",
       "        vertical-align: top;\n",
       "    }\n",
       "\n",
       "    .dataframe thead th {\n",
       "        text-align: right;\n",
       "    }\n",
       "</style>\n",
       "<table border=\"1\" class=\"dataframe\">\n",
       "  <thead>\n",
       "    <tr style=\"text-align: right;\">\n",
       "      <th></th>\n",
       "      <th>total_cholesterol</th>\n",
       "      <th>cholesterol_over_50</th>\n",
       "      <th>cholesterol_under_50</th>\n",
       "      <th>cholesterol_over_50_perc</th>\n",
       "      <th>cholesterol_under_50_perc</th>\n",
       "      <th>cholesterol_diff_perc</th>\n",
       "    </tr>\n",
       "    <tr>\n",
       "      <th>cholesterol</th>\n",
       "      <th></th>\n",
       "      <th></th>\n",
       "      <th></th>\n",
       "      <th></th>\n",
       "      <th></th>\n",
       "      <th></th>\n",
       "    </tr>\n",
       "  </thead>\n",
       "  <tbody>\n",
       "    <tr>\n",
       "      <th>1</th>\n",
       "      <td>52385</td>\n",
       "      <td>32388</td>\n",
       "      <td>19997</td>\n",
       "      <td>61.83</td>\n",
       "      <td>38.17</td>\n",
       "      <td>23.66</td>\n",
       "    </tr>\n",
       "    <tr>\n",
       "      <th>2</th>\n",
       "      <td>9549</td>\n",
       "      <td>6401</td>\n",
       "      <td>3148</td>\n",
       "      <td>67.03</td>\n",
       "      <td>32.97</td>\n",
       "      <td>34.06</td>\n",
       "    </tr>\n",
       "    <tr>\n",
       "      <th>3</th>\n",
       "      <td>8066</td>\n",
       "      <td>6586</td>\n",
       "      <td>1480</td>\n",
       "      <td>81.65</td>\n",
       "      <td>18.35</td>\n",
       "      <td>63.30</td>\n",
       "    </tr>\n",
       "  </tbody>\n",
       "</table>\n",
       "</div>"
      ],
      "text/plain": [
       "             total_cholesterol  cholesterol_over_50  cholesterol_under_50  \\\n",
       "cholesterol                                                                 \n",
       "1                        52385                32388                 19997   \n",
       "2                         9549                 6401                  3148   \n",
       "3                         8066                 6586                  1480   \n",
       "\n",
       "             cholesterol_over_50_perc  cholesterol_under_50_perc  \\\n",
       "cholesterol                                                        \n",
       "1                               61.83                      38.17   \n",
       "2                               67.03                      32.97   \n",
       "3                               81.65                      18.35   \n",
       "\n",
       "             cholesterol_diff_perc  \n",
       "cholesterol                         \n",
       "1                            23.66  \n",
       "2                            34.06  \n",
       "3                            63.30  "
      ]
     },
     "execution_count": 17,
     "metadata": {},
     "output_type": "execute_result"
    }
   ],
   "source": [
    "cholesdf.head()"
   ]
  },
  {
   "cell_type": "markdown",
   "metadata": {
    "ExecuteTime": {
     "end_time": "2022-03-25T04:41:14.263898Z",
     "start_time": "2022-03-25T04:41:14.259015Z"
    }
   },
   "source": [
    "- If we consider high level cholesterol 2 and 3 and get a percentage"
   ]
  },
  {
   "cell_type": "code",
   "execution_count": 18,
   "metadata": {
    "ExecuteTime": {
     "end_time": "2022-03-25T04:52:21.542529Z",
     "start_time": "2022-03-25T04:52:21.535695Z"
    }
   },
   "outputs": [],
   "source": [
    "# percentage of level 2 and 3 over 50\n",
    "sum_cholesterol_over_50_perc =(cholesdf.iloc[2][\"cholesterol_over_50\"]+cholesdf.iloc[1][\"cholesterol_over_50\"])/(cholesdf.iloc[2][\"total_cholesterol\"]+cholesdf.iloc[1][\"total_cholesterol\"])*100\n",
    "# percentage of level 2 and 3 under 50\n",
    "sum_cholesterol_under_50_perc=(cholesdf.iloc[2][\"cholesterol_under_50\"]+cholesdf.iloc[1][\"cholesterol_under_50\"])/(cholesdf.iloc[2][\"total_cholesterol\"]+cholesdf.iloc[1][\"total_cholesterol\"])*100"
   ]
  },
  {
   "cell_type": "code",
   "execution_count": 19,
   "metadata": {
    "ExecuteTime": {
     "end_time": "2022-03-25T04:52:34.048395Z",
     "start_time": "2022-03-25T04:52:34.041561Z"
    }
   },
   "outputs": [
    {
     "data": {
      "text/plain": [
       "47.45"
      ]
     },
     "execution_count": 19,
     "metadata": {},
     "output_type": "execute_result"
    }
   ],
   "source": [
    "round(sum_cholesterol_over_50_perc-sum_cholesterol_under_50_perc,2)"
   ]
  },
  {
   "cell_type": "markdown",
   "metadata": {},
   "source": [
    "R2. <b>We can check the differences per level but if we assume that level 2 and 3 are high levels of cholesterol the percentage of people over 50 is around 47,45%"
   ]
  },
  {
   "cell_type": "markdown",
   "metadata": {},
   "source": [
    "<b>3) Are men more likely to be a smoker than women? If so, how many times more? The data contains information to identify gender IDs."
   ]
  },
  {
   "cell_type": "markdown",
   "metadata": {},
   "source": [
    "- It is necessary to compare the current information per gender to analyze which of IDs belongs to women and men.\n"
   ]
  },
  {
   "cell_type": "code",
   "execution_count": 20,
   "metadata": {
    "ExecuteTime": {
     "end_time": "2022-03-23T15:19:52.217784Z",
     "start_time": "2022-03-23T15:19:52.190439Z"
    }
   },
   "outputs": [
    {
     "data": {
      "text/html": [
       "<div>\n",
       "<style scoped>\n",
       "    .dataframe tbody tr th:only-of-type {\n",
       "        vertical-align: middle;\n",
       "    }\n",
       "\n",
       "    .dataframe tbody tr th {\n",
       "        vertical-align: top;\n",
       "    }\n",
       "\n",
       "    .dataframe thead tr th {\n",
       "        text-align: left;\n",
       "    }\n",
       "\n",
       "    .dataframe thead tr:last-of-type th {\n",
       "        text-align: right;\n",
       "    }\n",
       "</style>\n",
       "<table border=\"1\" class=\"dataframe\">\n",
       "  <thead>\n",
       "    <tr>\n",
       "      <th></th>\n",
       "      <th>height</th>\n",
       "      <th>weight</th>\n",
       "    </tr>\n",
       "    <tr>\n",
       "      <th></th>\n",
       "      <th>mean</th>\n",
       "      <th>mean</th>\n",
       "    </tr>\n",
       "    <tr>\n",
       "      <th>gender</th>\n",
       "      <th></th>\n",
       "      <th></th>\n",
       "    </tr>\n",
       "  </thead>\n",
       "  <tbody>\n",
       "    <tr>\n",
       "      <th>1</th>\n",
       "      <td>161.355612</td>\n",
       "      <td>72.565605</td>\n",
       "    </tr>\n",
       "    <tr>\n",
       "      <th>2</th>\n",
       "      <td>169.947895</td>\n",
       "      <td>77.257307</td>\n",
       "    </tr>\n",
       "  </tbody>\n",
       "</table>\n",
       "</div>"
      ],
      "text/plain": [
       "            height     weight\n",
       "              mean       mean\n",
       "gender                       \n",
       "1       161.355612  72.565605\n",
       "2       169.947895  77.257307"
      ]
     },
     "execution_count": 20,
     "metadata": {},
     "output_type": "execute_result"
    }
   ],
   "source": [
    "cardiodf.groupby(['gender'])['height','weight'].agg(['mean'])"
   ]
  },
  {
   "cell_type": "markdown",
   "metadata": {},
   "source": [
    "- Usually, men are taller and heavier than women, so we can assume based on avg of these variables that value 2 belongs to men and value 1 belongs to women."
   ]
  },
  {
   "cell_type": "code",
   "execution_count": 21,
   "metadata": {
    "ExecuteTime": {
     "end_time": "2022-03-25T05:07:10.186502Z",
     "start_time": "2022-03-25T05:07:10.170876Z"
    }
   },
   "outputs": [
    {
     "data": {
      "text/plain": [
       "gender\n",
       "1     813\n",
       "2    5356\n",
       "Name: smoke, dtype: int64"
      ]
     },
     "execution_count": 21,
     "metadata": {},
     "output_type": "execute_result"
    }
   ],
   "source": [
    "# shows the amount of smokers per gender\n",
    "x=cardiodf.groupby('gender')['smoke'].sum()\n",
    "x"
   ]
  },
  {
   "cell_type": "code",
   "execution_count": 22,
   "metadata": {
    "ExecuteTime": {
     "end_time": "2022-03-25T05:07:12.449192Z",
     "start_time": "2022-03-25T05:07:12.439428Z"
    }
   },
   "outputs": [
    {
     "data": {
      "text/plain": [
       "6.59"
      ]
     },
     "execution_count": 22,
     "metadata": {},
     "output_type": "execute_result"
    }
   ],
   "source": [
    "# get the number of times that men are more smokers than women\n",
    "round(x[2]/x[1],2)"
   ]
  },
  {
   "cell_type": "markdown",
   "metadata": {
    "ExecuteTime": {
     "end_time": "2022-03-23T15:32:03.176521Z",
     "start_time": "2022-03-23T15:32:03.169685Z"
    }
   },
   "source": [
    "R3. <b> Considering 1 as women and 2 as men. we can see that men are around 6,6 times more smokers than women"
   ]
  },
  {
   "cell_type": "markdown",
   "metadata": {},
   "source": [
    "<b>4) How tall are the tallest 1% of the people?"
   ]
  },
  {
   "cell_type": "code",
   "execution_count": 23,
   "metadata": {
    "ExecuteTime": {
     "end_time": "2022-03-25T05:17:16.313791Z",
     "start_time": "2022-03-25T05:17:16.303967Z"
    }
   },
   "outputs": [
    {
     "name": "stdout",
     "output_type": "stream",
     "text": [
      "Max Value 250\n",
      "99 P 184.0\n"
     ]
    }
   ],
   "source": [
    "# to get how tall are the tallest 1% of people i should get the 99 percentile and max value of height\n",
    "print(\"Max Value\",cardiodf[\"height\"].max())\n",
    "print(\"99 P\",cardiodf[\"height\"].quantile(0.99))"
   ]
  },
  {
   "cell_type": "markdown",
   "metadata": {},
   "source": [
    "R4.<b>The range is between 184 and 250"
   ]
  },
  {
   "cell_type": "markdown",
   "metadata": {
    "ExecuteTime": {
     "end_time": "2022-03-23T15:44:49.949905Z",
     "start_time": "2022-03-23T15:44:49.940092Z"
    }
   },
   "source": [
    "### Multivariate Analysis"
   ]
  },
  {
   "cell_type": "markdown",
   "metadata": {},
   "source": [
    "<b>5) Which two features have the highest spearman rank correlation?</b> "
   ]
  },
  {
   "cell_type": "code",
   "execution_count": 24,
   "metadata": {
    "ExecuteTime": {
     "end_time": "2022-03-23T15:46:14.181063Z",
     "start_time": "2022-03-23T15:46:11.058350Z"
    }
   },
   "outputs": [
    {
     "data": {
      "image/png": "[encoded data removed]",
      "text/plain": [
       "<Figure size 576x576 with 2 Axes>"
      ]
     },
     "metadata": {
      "needs_background": "light"
     },
     "output_type": "display_data"
    }
   ],
   "source": [
    "# Shows the correlation between variables using the spearman method\n",
    "plt.figure(figsize= (8,8))\n",
    "cmap = sb.diverging_palette(250, 10, as_cmap=True)\n",
    "ax = sb.heatmap(round(cardiodf.corr(method=\"spearman\"),2),center = 0,annot= True,linewidth=0.5,cmap= cmap)"
   ]
  },
  {
   "cell_type": "code",
   "execution_count": 25,
   "metadata": {
    "ExecuteTime": {
     "end_time": "2022-03-23T00:00:27.667013Z",
     "start_time": "2022-03-23T00:00:25.750998Z"
    }
   },
   "outputs": [
    {
     "data": {
      "image/png": "[encoded data removed]",
      "text/plain": [
       "<Figure size 864x504 with 2 Axes>"
      ]
     },
     "metadata": {
      "needs_background": "light"
     },
     "output_type": "display_data"
    }
   ],
   "source": [
    "# shows heatmap with highest correlation \n",
    "corr = cardiodf.corr(method=\"spearman\") \n",
    "plt.figure(figsize=(12,7))\n",
    "\n",
    "sb.heatmap(corr[(corr >= 0.1) | (corr <= -0.1)], \n",
    "            cmap='viridis', vmax=1.0, vmin=-1.0, linewidths=0.1,\n",
    "            annot=True, annot_kws={\"size\":8}, square=True);"
   ]
  },
  {
   "cell_type": "markdown",
   "metadata": {
    "ExecuteTime": {
     "end_time": "2022-03-23T17:24:42.430146Z",
     "start_time": "2022-03-23T17:24:42.423296Z"
    }
   },
   "source": [
    "R5.<b>ap_lo</b> and <b>ap_hi</b> <b>show the highest correlation with 0,74. Also It is important to highlight other relations\n",
    "between height and gender, and smoke and gender."
   ]
  },
  {
   "cell_type": "markdown",
   "metadata": {
    "ExecuteTime": {
     "end_time": "2022-03-25T05:21:31.599988Z",
     "start_time": "2022-03-25T05:21:31.592171Z"
    }
   },
   "source": [
    "<b>6) What percentage of people are more than 2 standard deviations far from the average height?"
   ]
  },
  {
   "cell_type": "code",
   "execution_count": 26,
   "metadata": {
    "ExecuteTime": {
     "end_time": "2022-03-25T05:28:04.611890Z",
     "start_time": "2022-03-25T05:28:04.597214Z"
    }
   },
   "outputs": [
    {
     "data": {
      "text/plain": [
       "count    70000.000000\n",
       "mean       164.359229\n",
       "std          8.210126\n",
       "min         55.000000\n",
       "25%        159.000000\n",
       "50%        165.000000\n",
       "75%        170.000000\n",
       "max        250.000000\n",
       "Name: height, dtype: float64"
      ]
     },
     "execution_count": 26,
     "metadata": {},
     "output_type": "execute_result"
    }
   ],
   "source": [
    "# we need to get the mean and std of height \n",
    "cardiodf[\"height\"].describe()"
   ]
  },
  {
   "cell_type": "code",
   "execution_count": 27,
   "metadata": {
    "ExecuteTime": {
     "end_time": "2022-03-25T05:29:14.161727Z",
     "start_time": "2022-03-25T05:29:14.151946Z"
    },
    "run_control": {
     "marked": true
    }
   },
   "outputs": [
    {
     "data": {
      "text/plain": [
       "180.77948130050484"
      ]
     },
     "execution_count": 27,
     "metadata": {},
     "output_type": "execute_result"
    }
   ],
   "source": [
    "# calculate the limit over 2 std\n",
    "cardiodf[\"height\"].mean()+2*cardiodf[\"height\"].std()"
   ]
  },
  {
   "cell_type": "code",
   "execution_count": 81,
   "metadata": {
    "ExecuteTime": {
     "end_time": "2022-03-25T06:10:49.195923Z",
     "start_time": "2022-03-25T06:10:49.187178Z"
    }
   },
   "outputs": [
    {
     "data": {
      "text/plain": [
       "2.2815974541377178"
      ]
     },
     "execution_count": 81,
     "metadata": {},
     "output_type": "execute_result"
    }
   ],
   "source": [
    "# get the percentage of people over 2 std and send mean and 2 std\n",
    "import scipy.stats\n",
    "(scipy.stats.norm(164.36,8.21).sf(180.77))*100"
   ]
  },
  {
   "cell_type": "markdown",
   "metadata": {},
   "source": [
    "R6.<b> around 2,27 % of people are more than 2 standard desviations far from the average height"
   ]
  },
  {
   "cell_type": "markdown",
   "metadata": {},
   "source": [
    "<b>7) What percentage of the population over 50 years old consume alcohol? Also use the cardio_alco.csv and merge the datasets on ID. Ignore those persons, where we have no alcohol consumption information."
   ]
  },
  {
   "cell_type": "code",
   "execution_count": 59,
   "metadata": {},
   "outputs": [
    {
     "data": {
      "text/plain": [
       "45375"
      ]
     },
     "execution_count": 59,
     "metadata": {},
     "output_type": "execute_result"
    }
   ],
   "source": [
    "# get the total of people over 50 years old\n",
    "cardiodf[(cardiodf[\"age\"]>50)][\"id\"].count()"
   ]
  },
  {
   "cell_type": "code",
   "execution_count": 30,
   "metadata": {
    "ExecuteTime": {
     "end_time": "2022-03-22T23:42:51.684843Z",
     "start_time": "2022-03-22T23:42:51.612575Z"
    }
   },
   "outputs": [],
   "source": [
    "# merge the datasets to get alco variable\n",
    "cardiodf = pd.merge(cardiodf, alcodf,on='id', how='left')"
   ]
  },
  {
   "cell_type": "code",
   "execution_count": 31,
   "metadata": {
    "ExecuteTime": {
     "end_time": "2022-03-25T06:15:04.812455Z",
     "start_time": "2022-03-25T06:15:04.794879Z"
    }
   },
   "outputs": [
    {
     "data": {
      "text/html": [
       "<div>\n",
       "<style scoped>\n",
       "    .dataframe tbody tr th:only-of-type {\n",
       "        vertical-align: middle;\n",
       "    }\n",
       "\n",
       "    .dataframe tbody tr th {\n",
       "        vertical-align: top;\n",
       "    }\n",
       "\n",
       "    .dataframe thead th {\n",
       "        text-align: right;\n",
       "    }\n",
       "</style>\n",
       "<table border=\"1\" class=\"dataframe\">\n",
       "  <thead>\n",
       "    <tr style=\"text-align: right;\">\n",
       "      <th></th>\n",
       "      <th>id</th>\n",
       "      <th>age</th>\n",
       "      <th>gender</th>\n",
       "      <th>height</th>\n",
       "      <th>weight</th>\n",
       "      <th>ap_hi</th>\n",
       "      <th>ap_lo</th>\n",
       "      <th>cholesterol</th>\n",
       "      <th>smoke</th>\n",
       "      <th>alco</th>\n",
       "    </tr>\n",
       "  </thead>\n",
       "  <tbody>\n",
       "    <tr>\n",
       "      <th>0</th>\n",
       "      <td>0</td>\n",
       "      <td>50</td>\n",
       "      <td>2</td>\n",
       "      <td>168</td>\n",
       "      <td>62.0</td>\n",
       "      <td>110</td>\n",
       "      <td>80</td>\n",
       "      <td>1</td>\n",
       "      <td>0</td>\n",
       "      <td>NaN</td>\n",
       "    </tr>\n",
       "  </tbody>\n",
       "</table>\n",
       "</div>"
      ],
      "text/plain": [
       "   id  age  gender  height  weight  ap_hi  ap_lo  cholesterol  smoke  alco\n",
       "0   0   50       2     168    62.0    110     80            1      0   NaN"
      ]
     },
     "execution_count": 31,
     "metadata": {},
     "output_type": "execute_result"
    }
   ],
   "source": [
    "cardiodf.head(1)"
   ]
  },
  {
   "cell_type": "code",
   "execution_count": 72,
   "metadata": {},
   "outputs": [
    {
     "name": "stdout",
     "output_type": "stream",
     "text": [
      "alco\n",
      "False    43565\n",
      "True      1810\n",
      "Name: id, dtype: int64\n"
     ]
    }
   ],
   "source": [
    "# get the count of people over than 50 years by level alcohol \n",
    "x_alco = (cardiodf[(cardiodf[\"age\"] >50)].groupby(cardiodf[\"alco\"] == 1)[\"id\"].count())\n",
    "print(x_alco)"
   ]
  },
  {
   "cell_type": "markdown",
   "metadata": {},
   "source": [
    " - To calculate the percentage of the population over 50 years old that consume alcohol, it is important get the total amount of people over 50 and the amount of people that consume alcohol and are over 50"
   ]
  },
  {
   "cell_type": "code",
   "execution_count": 78,
   "metadata": {},
   "outputs": [
    {
     "data": {
      "text/plain": [
       "3.99"
      ]
     },
     "execution_count": 78,
     "metadata": {},
     "output_type": "execute_result"
    }
   ],
   "source": [
    "# get the percentage of people (people that)\n",
    "round((x_alco[1]/cardiodf[(cardiodf[\"age\"]>50)][\"id\"].count())*100,2)"
   ]
  },
  {
   "cell_type": "markdown",
   "metadata": {},
   "source": [
    "R7. <b>The percentage of the population over 50 years old that consume alcohol is around 3,99 % and 5% when you ignore people with  no alcohol information"
   ]
  },
  {
   "cell_type": "markdown",
   "metadata": {},
   "source": [
    "<b>8) Which of the following statements is true with 95% confidence?\n",
    "\n",
    "a) Smokers have higher blood pressure than non-smokers\n",
    "\n",
    "b) Smokers have higher cholesterol level than non smokers\n",
    "\n",
    "c) Smokers weight less than non smokers\n",
    "\n",
    "d )Men have higher blood pressure than women"
   ]
  },
  {
   "cell_type": "markdown",
   "metadata": {},
   "source": [
    "<b>a) Smokers have higher blood pressure than non-smokers"
   ]
  },
  {
   "cell_type": "markdown",
   "metadata": {},
   "source": [
    " We have to define a hypothesis test with 95% of confidence.\n",
    "    <br>At that case, the definition would be\n",
    "        <br>- Smokers have higher blood pressure level than non-smokers (H1)<br> \n",
    "        - Null hypothesis (H0)<br>\n",
    "        \n",
    "I use the function ttest_ind from scipy to apply the hypothesis"
   ]
  },
  {
   "cell_type": "code",
   "execution_count": 200,
   "metadata": {},
   "outputs": [
    {
     "name": "stdout",
     "output_type": "stream",
     "text": [
      "Null hypothesis\n"
     ]
    }
   ],
   "source": [
    "# Apply ap_hi  Hypothesis test using 95% of confidence\n",
    "t_value,p_value = stats.ttest_ind(cardiodf.ap_hi[cardiodf.smoke.eq(1)],cardiodf.ap_hi[cardiodf.smoke.eq(0)], alternative ='greater',equal_var=False)\n",
    "if p_value < 0.05:\n",
    "    print('Smokers have higher blood pressure than non-smokers')\n",
    "else:\n",
    "    print('Null hypothesis')"
   ]
  },
  {
   "cell_type": "code",
   "execution_count": 216,
   "metadata": {},
   "outputs": [
    {
     "name": "stdout",
     "output_type": "stream",
     "text": [
      "Null hypothesis\n"
     ]
    }
   ],
   "source": [
    "# Apply ap_lo  Hypothesis test using 95% of confidence\n",
    "t_value,p_value = stats.ttest_ind(cardiodf.ap_lo[cardiodf.smoke.eq(1)],cardiodf.ap_lo[cardiodf.smoke.eq(0)], alternative ='greater',equal_var=False)\n",
    "if p_value < 0.05:\n",
    "    print('Smokers have higher blood pressure than non-smokers')\n",
    "else:\n",
    "    print('Null hypothesis')"
   ]
  },
  {
   "cell_type": "markdown",
   "metadata": {},
   "source": [
    "Ra.<b> After Hypothesis testing, we can noticed this statement is False"
   ]
  },
  {
   "cell_type": "markdown",
   "metadata": {},
   "source": [
    "<b>b) Smokers have higher cholesterol level than non smokers"
   ]
  },
  {
   "cell_type": "markdown",
   "metadata": {},
   "source": [
    "These variables are categorical, and we need to compare the level of cholesterol per smokers and non-smokers\n",
    "The following graphic shows that non-smokers have fewer levels (taking level 2 and 3 as high levels) of cholesterol.\n",
    "We can consider accepted the affirmation, but it is important to check the hypothesis using chi square "
   ]
  },
  {
   "cell_type": "code",
   "execution_count": 201,
   "metadata": {},
   "outputs": [
    {
     "data": {
      "image/png": "[encoded data removed]",
      "text/plain": [
       "<Figure size 576x360 with 2 Axes>"
      ]
     },
     "metadata": {
      "needs_background": "light"
     },
     "output_type": "display_data"
    }
   ],
   "source": [
    "fig, ax =plt.subplots(1,2)\n",
    "sb.countplot(x='cholesterol', data = cardiodf[(cardiodf[\"smoke\"] ==1)], palette=\"tab20\", ax=ax[0]).set(title='Smokers')\n",
    "sb.countplot(x='cholesterol', data = cardiodf[(cardiodf[\"smoke\"] ==0)], palette=\"tab20\", ax=ax[1]).set(title='Non Smokers')\n",
    "fig.show()"
   ]
  },
  {
   "cell_type": "code",
   "execution_count": 108,
   "metadata": {},
   "outputs": [
    {
     "data": {
      "text/html": [
       "<div>\n",
       "<style scoped>\n",
       "    .dataframe tbody tr th:only-of-type {\n",
       "        vertical-align: middle;\n",
       "    }\n",
       "\n",
       "    .dataframe tbody tr th {\n",
       "        vertical-align: top;\n",
       "    }\n",
       "\n",
       "    .dataframe thead th {\n",
       "        text-align: right;\n",
       "    }\n",
       "</style>\n",
       "<table border=\"1\" class=\"dataframe\">\n",
       "  <thead>\n",
       "    <tr style=\"text-align: right;\">\n",
       "      <th></th>\n",
       "      <th></th>\n",
       "      <th>id</th>\n",
       "    </tr>\n",
       "    <tr>\n",
       "      <th>smoke</th>\n",
       "      <th>cholesterol</th>\n",
       "      <th></th>\n",
       "    </tr>\n",
       "  </thead>\n",
       "  <tbody>\n",
       "    <tr>\n",
       "      <th rowspan=\"3\" valign=\"top\">0</th>\n",
       "      <th>1</th>\n",
       "      <td>47922</td>\n",
       "    </tr>\n",
       "    <tr>\n",
       "      <th>2</th>\n",
       "      <td>8540</td>\n",
       "    </tr>\n",
       "    <tr>\n",
       "      <th>3</th>\n",
       "      <td>7369</td>\n",
       "    </tr>\n",
       "    <tr>\n",
       "      <th rowspan=\"3\" valign=\"top\">1</th>\n",
       "      <th>1</th>\n",
       "      <td>4463</td>\n",
       "    </tr>\n",
       "    <tr>\n",
       "      <th>2</th>\n",
       "      <td>1009</td>\n",
       "    </tr>\n",
       "    <tr>\n",
       "      <th>3</th>\n",
       "      <td>697</td>\n",
       "    </tr>\n",
       "  </tbody>\n",
       "</table>\n",
       "</div>"
      ],
      "text/plain": [
       "                      id\n",
       "smoke cholesterol       \n",
       "0     1            47922\n",
       "      2             8540\n",
       "      3             7369\n",
       "1     1             4463\n",
       "      2             1009\n",
       "      3              697"
      ]
     },
     "execution_count": 108,
     "metadata": {},
     "output_type": "execute_result"
    }
   ],
   "source": [
    "# get the frequencies to compare the level of cholesterol\n",
    "cardiodf.groupby([ 'smoke','cholesterol'])['id'].count().to_frame()"
   ]
  },
  {
   "cell_type": "code",
   "execution_count": 214,
   "metadata": {},
   "outputs": [
    {
     "name": "stdout",
     "output_type": "stream",
     "text": [
      "Smokers have higher cholesterol level than non smokers\n"
     ]
    }
   ],
   "source": [
    "# apply chi2 to compare proportions and ztest\n",
    "from statsmodels.stats.proportion import proportions_chisquare, proportions_ztest\n",
    "\n",
    "val, p, tab = proportions_chisquare(count = [1009, 697],\n",
    "                                     nobs = [8540, 7369],\n",
    "                                  )\n",
    "\n",
    "x,p_value = proportions_ztest(count=[1009, 697],\n",
    "                  nobs=[8540, 7369], \n",
    "                  alternative='larger')\n",
    "if p_value < 0.05:\n",
    "    print('Smokers have higher cholesterol level than non smokers')\n",
    "else:\n",
    "    print('Null hypothesis')\n"
   ]
  },
  {
   "cell_type": "markdown",
   "metadata": {},
   "source": [
    "Rb.<b> After Hypothesis testing we can notice that this statement is True"
   ]
  },
  {
   "cell_type": "markdown",
   "metadata": {},
   "source": [
    "<b>c) Smokers weight less than non smokers"
   ]
  },
  {
   "cell_type": "code",
   "execution_count": 175,
   "metadata": {},
   "outputs": [
    {
     "name": "stdout",
     "output_type": "stream",
     "text": [
      "77.34435078618901\n",
      "73.90235152198775\n"
     ]
    }
   ],
   "source": [
    "# using the mean between smokers and non smokers, non smokers weight less than smokers\n",
    "print(cardiodf[(cardiodf[\"smoke\"] == 1)]['weight'].mean())\n",
    "print(cardiodf[(cardiodf[\"smoke\"] == 0)]['weight'].mean())"
   ]
  },
  {
   "cell_type": "code",
   "execution_count": 179,
   "metadata": {},
   "outputs": [
    {
     "name": "stdout",
     "output_type": "stream",
     "text": [
      "Null hypothesis\n"
     ]
    }
   ],
   "source": [
    "# Apply ap_hi  Hypothesis test using 95% of confidence\n",
    "t_value,p_value = stats.ttest_ind(cardiodf.weight[cardiodf.smoke.eq(1)],cardiodf.weight[cardiodf.smoke.eq(0)], alternative ='less',equal_var=False)\n",
    "if p_value < 0.05:\n",
    "    print('Smokers have less weight than non-smokers')\n",
    "else:\n",
    "    print('Null hypothesis')"
   ]
  },
  {
   "cell_type": "markdown",
   "metadata": {},
   "source": [
    "Rc.<b> After Hyphotesis testing we can notice that this statement is False"
   ]
  },
  {
   "cell_type": "markdown",
   "metadata": {},
   "source": [
    "<b>d) Men have higher blood pressure than women"
   ]
  },
  {
   "cell_type": "code",
   "execution_count": 193,
   "metadata": {},
   "outputs": [
    {
     "name": "stdout",
     "output_type": "stream",
     "text": [
      "128.1392488469141\n",
      "94.52277619152207\n"
     ]
    }
   ],
   "source": [
    "print(cardiodf[(cardiodf[\"gender\"] == 1)]['ap_hi'].mean())\n",
    "print(cardiodf[(cardiodf[\"gender\"] == 1)]['ap_lo'].mean())"
   ]
  },
  {
   "cell_type": "code",
   "execution_count": 194,
   "metadata": {},
   "outputs": [
    {
     "name": "stdout",
     "output_type": "stream",
     "text": [
      "130.07887208827134\n",
      "100.55198201879853\n"
     ]
    }
   ],
   "source": [
    "print(cardiodf[(cardiodf[\"gender\"] == 2)]['ap_hi'].mean())\n",
    "print(cardiodf[(cardiodf[\"gender\"] == 2)]['ap_lo'].mean())"
   ]
  },
  {
   "cell_type": "code",
   "execution_count": 198,
   "metadata": {},
   "outputs": [
    {
     "name": "stdout",
     "output_type": "stream",
     "text": [
      "Men have higher blood pressure than women\n"
     ]
    }
   ],
   "source": [
    "# Apply ap_hi  Hypothesis test using 95% of confidence\n",
    "t_value,p_value = stats.ttest_ind(cardiodf.ap_lo[cardiodf.gender.eq(2)],cardiodf.ap_lo[cardiodf.gender.eq(1)], alternative ='greater',equal_var=True)\n",
    "if p_value < 0.05:\n",
    "    print('Men have higher blood pressure than women')\n",
    "else:\n",
    "    print('Null hypothesis')"
   ]
  },
  {
   "cell_type": "markdown",
   "metadata": {},
   "source": [
    "Rd.<b> After Hyphotesis testing we can notice that this statement is True"
   ]
  },
  {
   "cell_type": "code",
   "execution_count": null,
   "metadata": {},
   "outputs": [],
   "source": []
  }
 ],
 "metadata": {
  "kernelspec": {
   "display_name": "Python 3",
   "language": "python",
   "name": "python3"
  },
  "language_info": {
   "codemirror_mode": {
    "name": "ipython",
    "version": 3
   },
   "file_extension": ".py",
   "mimetype": "text/x-python",
   "name": "python",
   "nbconvert_exporter": "python",
   "pygments_lexer": "ipython3",
   "version": "3.8.8"
  },
  "toc": {
   "base_numbering": 1,
   "nav_menu": {},
   "number_sections": true,
   "sideBar": true,
   "skip_h1_title": false,
   "title_cell": "Table of Contents",
   "title_sidebar": "Contents",
   "toc_cell": false,
   "toc_position": {},
   "toc_section_display": true,
   "toc_window_display": true
  }
 },
 "nbformat": 4,
 "nbformat_minor": 4
}
